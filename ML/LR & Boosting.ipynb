{
  "nbformat": 4,
  "nbformat_minor": 0,
  "metadata": {
    "kernelspec": {
      "display_name": "Python 3",
      "language": "python",
      "name": "python3"
    },
    "language_info": {
      "codemirror_mode": {
        "name": "ipython",
        "version": 3
      },
      "file_extension": ".py",
      "mimetype": "text/x-python",
      "name": "python",
      "nbconvert_exporter": "python",
      "pygments_lexer": "ipython3",
      "version": "3.7.4"
    },
    "colab": {
      "provenance": []
    },
    "widgets": {
      "application/vnd.jupyter.widget-state+json": {
        "7f0082e0f5dd48788318dce0ca0caf3b": {
          "model_module": "catboost-widget",
          "model_name": "CatboostWidgetModel",
          "model_module_version": "^1.0.0",
          "state": {
            "_dom_classes": [],
            "_model_module": "catboost-widget",
            "_model_module_version": "^1.0.0",
            "_model_name": "CatboostWidgetModel",
            "_view_count": null,
            "_view_module": "catboost-widget",
            "_view_module_version": "^1.0.0",
            "_view_name": "CatboostWidgetView",
            "data": {
              "catboost_info": {
                "path": "catboost_info",
                "name": "catboost_info",
                "content": {
                  "passed_iterations": 0,
                  "total_iterations": 1,
                  "data": {
                    "iterations": [
                      {
                        "parameters": [
                          {
                            "subsample": 0.6,
                            "min_data_in_leaf": 100,
                            "random_strength": 5,
                            "depth": 4,
                            "learning_rate": 0.05,
                            "l2_leaf_reg": 10,
                            "iterations": 350
                          }
                        ],
                        "learn": [
                          0.8748367538,
                          0.3761544063
                        ],
                        "iteration": 0,
                        "passed_time": 3.104110719,
                        "remaining_time": 0,
                        "test": [
                          0.8304217288,
                          0.4324649582
                        ]
                      }
                    ],
                    "meta": {
                      "test_sets": [
                        "test"
                      ],
                      "test_metrics": [
                        {
                          "best_value": "Max",
                          "name": "AUC"
                        },
                        {
                          "best_value": "Min",
                          "name": "Logloss"
                        }
                      ],
                      "learn_metrics": [
                        {
                          "best_value": "Max",
                          "name": "AUC"
                        },
                        {
                          "best_value": "Min",
                          "name": "Logloss"
                        }
                      ],
                      "launch_mode": "Train",
                      "parameters": "parameters",
                      "iteration_count": 1,
                      "learn_sets": [
                        "learn"
                      ],
                      "name": "experiment"
                    }
                  }
                }
              }
            },
            "layout": "IPY_MODEL_cdae4b8245134003afc2807c6a0992c8"
          }
        }
      }
    }
  },
  "cells": [
    {
      "cell_type": "markdown",
      "source": [
        "# TEAM NAME: garichy\n",
        "# Kaggle score: 0.84704"
      ],
      "metadata": {
        "id": "CuRomxh_dMAf"
      }
    },
    {
      "cell_type": "markdown",
      "metadata": {
        "id": "IrDNNkNTEEYz"
      },
      "source": [
        "# Первая часть. Исследование"
      ]
    },
    {
      "cell_type": "code",
      "metadata": {
        "id": "lzLqEeZKEEYz"
      },
      "source": [
        "import pandas as pd\n",
        "import numpy as np\n",
        "from matplotlib import pyplot as plt"
      ],
      "execution_count": null,
      "outputs": []
    },
    {
      "cell_type": "markdown",
      "metadata": {
        "id": "LOlxdURSEEY3"
      },
      "source": [
        "## Загрузка данных\n",
        "\n",
        "1) Работа с пропущенными и дублирующимимся значениями"
      ]
    },
    {
      "cell_type": "code",
      "source": [
        "# Для вашего удобства списки с именами разных колонок\n",
        "\n",
        "# Числовые признаки\n",
        "num_cols = [\n",
        "    'ClientPeriod',\n",
        "    'MonthlySpending',\n",
        "    'TotalSpent'\n",
        "]\n",
        "\n",
        "# Категориальные признаки\n",
        "cat_cols = [\n",
        "    'Sex',\n",
        "    'IsSeniorCitizen',\n",
        "    'HasPartner',\n",
        "    'HasChild',\n",
        "    'HasPhoneService',\n",
        "    'HasMultiplePhoneNumbers',\n",
        "    'HasInternetService',\n",
        "    'HasOnlineSecurityService',\n",
        "    'HasOnlineBackup',\n",
        "    'HasDeviceProtection',\n",
        "    'HasTechSupportAccess',\n",
        "    'HasOnlineTV',\n",
        "    'HasMovieSubscription',\n",
        "    'HasContractPhone',\n",
        "    'IsBillingPaperless',\n",
        "    'PaymentMethod'\n",
        "]\n",
        "\n",
        "feature_cols = num_cols + cat_cols\n",
        "target_col = 'Churn'\n",
        "pie_col = cat_cols + [target_col]"
      ],
      "metadata": {
        "id": "Kv_RJSscr9gg"
      },
      "execution_count": null,
      "outputs": []
    },
    {
      "cell_type": "code",
      "source": [
        "train = pd.read_csv('train.csv')\n",
        "test = pd.read_csv('test.csv')"
      ],
      "metadata": {
        "id": "onwvbwBosAXa"
      },
      "execution_count": null,
      "outputs": []
    },
    {
      "cell_type": "code",
      "source": [
        "train.info()"
      ],
      "metadata": {
        "colab": {
          "base_uri": "https://localhost:8080/"
        },
        "id": "wMZS17iGiqCy",
        "outputId": "2de21ac8-1486-4fa9-c69a-8fc2cc4cfef7"
      },
      "execution_count": null,
      "outputs": [
        {
          "output_type": "stream",
          "name": "stdout",
          "text": [
            "<class 'pandas.core.frame.DataFrame'>\n",
            "RangeIndex: 5282 entries, 0 to 5281\n",
            "Data columns (total 20 columns):\n",
            " #   Column                    Non-Null Count  Dtype  \n",
            "---  ------                    --------------  -----  \n",
            " 0   ClientPeriod              5282 non-null   int64  \n",
            " 1   MonthlySpending           5282 non-null   float64\n",
            " 2   TotalSpent                5282 non-null   object \n",
            " 3   Sex                       5282 non-null   object \n",
            " 4   IsSeniorCitizen           5282 non-null   int64  \n",
            " 5   HasPartner                5282 non-null   object \n",
            " 6   HasChild                  5282 non-null   object \n",
            " 7   HasPhoneService           5282 non-null   object \n",
            " 8   HasMultiplePhoneNumbers   5282 non-null   object \n",
            " 9   HasInternetService        5282 non-null   object \n",
            " 10  HasOnlineSecurityService  5282 non-null   object \n",
            " 11  HasOnlineBackup           5282 non-null   object \n",
            " 12  HasDeviceProtection       5282 non-null   object \n",
            " 13  HasTechSupportAccess      5282 non-null   object \n",
            " 14  HasOnlineTV               5282 non-null   object \n",
            " 15  HasMovieSubscription      5282 non-null   object \n",
            " 16  HasContractPhone          5282 non-null   object \n",
            " 17  IsBillingPaperless        5282 non-null   object \n",
            " 18  PaymentMethod             5282 non-null   object \n",
            " 19  Churn                     5282 non-null   int64  \n",
            "dtypes: float64(1), int64(3), object(16)\n",
            "memory usage: 825.4+ KB\n"
          ]
        }
      ]
    },
    {
      "cell_type": "code",
      "source": [
        "train.isnull().sum().sum(), test.isnull().sum().sum()"
      ],
      "metadata": {
        "colab": {
          "base_uri": "https://localhost:8080/"
        },
        "id": "ZbY4GjEoW8gm",
        "outputId": "5979464f-ffb1-4eb3-f6c3-a5b78b27756a"
      },
      "execution_count": null,
      "outputs": [
        {
          "output_type": "execute_result",
          "data": {
            "text/plain": [
              "(0, 0)"
            ]
          },
          "metadata": {},
          "execution_count": 6
        }
      ]
    },
    {
      "cell_type": "code",
      "source": [
        "total = train.isna().sum().sort_values(ascending = False)\n",
        "percent = round(train.isna().sum().sort_values(ascending = False)/len(train)*100,2)\n",
        "pd.concat([total, percent], axis=1, keys=['Total','Percent'])"
      ],
      "metadata": {
        "colab": {
          "base_uri": "https://localhost:8080/",
          "height": 676
        },
        "id": "1lVOkHGYixHG",
        "outputId": "9ed6f4c9-e56d-48eb-9e26-77c1927976e1"
      },
      "execution_count": null,
      "outputs": [
        {
          "output_type": "execute_result",
          "data": {
            "text/plain": [
              "                          Total  Percent\n",
              "ClientPeriod                  0      0.0\n",
              "MonthlySpending               0      0.0\n",
              "PaymentMethod                 0      0.0\n",
              "IsBillingPaperless            0      0.0\n",
              "HasContractPhone              0      0.0\n",
              "HasMovieSubscription          0      0.0\n",
              "HasOnlineTV                   0      0.0\n",
              "HasTechSupportAccess          0      0.0\n",
              "HasDeviceProtection           0      0.0\n",
              "HasOnlineBackup               0      0.0\n",
              "HasOnlineSecurityService      0      0.0\n",
              "HasInternetService            0      0.0\n",
              "HasMultiplePhoneNumbers       0      0.0\n",
              "HasPhoneService               0      0.0\n",
              "HasChild                      0      0.0\n",
              "HasPartner                    0      0.0\n",
              "IsSeniorCitizen               0      0.0\n",
              "Sex                           0      0.0\n",
              "TotalSpent                    0      0.0\n",
              "Churn                         0      0.0"
            ],
            "text/html": [
              "\n",
              "  <div id=\"df-8bd6bd00-8734-4259-965b-144fbce66d0a\">\n",
              "    <div class=\"colab-df-container\">\n",
              "      <div>\n",
              "<style scoped>\n",
              "    .dataframe tbody tr th:only-of-type {\n",
              "        vertical-align: middle;\n",
              "    }\n",
              "\n",
              "    .dataframe tbody tr th {\n",
              "        vertical-align: top;\n",
              "    }\n",
              "\n",
              "    .dataframe thead th {\n",
              "        text-align: right;\n",
              "    }\n",
              "</style>\n",
              "<table border=\"1\" class=\"dataframe\">\n",
              "  <thead>\n",
              "    <tr style=\"text-align: right;\">\n",
              "      <th></th>\n",
              "      <th>Total</th>\n",
              "      <th>Percent</th>\n",
              "    </tr>\n",
              "  </thead>\n",
              "  <tbody>\n",
              "    <tr>\n",
              "      <th>ClientPeriod</th>\n",
              "      <td>0</td>\n",
              "      <td>0.0</td>\n",
              "    </tr>\n",
              "    <tr>\n",
              "      <th>MonthlySpending</th>\n",
              "      <td>0</td>\n",
              "      <td>0.0</td>\n",
              "    </tr>\n",
              "    <tr>\n",
              "      <th>PaymentMethod</th>\n",
              "      <td>0</td>\n",
              "      <td>0.0</td>\n",
              "    </tr>\n",
              "    <tr>\n",
              "      <th>IsBillingPaperless</th>\n",
              "      <td>0</td>\n",
              "      <td>0.0</td>\n",
              "    </tr>\n",
              "    <tr>\n",
              "      <th>HasContractPhone</th>\n",
              "      <td>0</td>\n",
              "      <td>0.0</td>\n",
              "    </tr>\n",
              "    <tr>\n",
              "      <th>HasMovieSubscription</th>\n",
              "      <td>0</td>\n",
              "      <td>0.0</td>\n",
              "    </tr>\n",
              "    <tr>\n",
              "      <th>HasOnlineTV</th>\n",
              "      <td>0</td>\n",
              "      <td>0.0</td>\n",
              "    </tr>\n",
              "    <tr>\n",
              "      <th>HasTechSupportAccess</th>\n",
              "      <td>0</td>\n",
              "      <td>0.0</td>\n",
              "    </tr>\n",
              "    <tr>\n",
              "      <th>HasDeviceProtection</th>\n",
              "      <td>0</td>\n",
              "      <td>0.0</td>\n",
              "    </tr>\n",
              "    <tr>\n",
              "      <th>HasOnlineBackup</th>\n",
              "      <td>0</td>\n",
              "      <td>0.0</td>\n",
              "    </tr>\n",
              "    <tr>\n",
              "      <th>HasOnlineSecurityService</th>\n",
              "      <td>0</td>\n",
              "      <td>0.0</td>\n",
              "    </tr>\n",
              "    <tr>\n",
              "      <th>HasInternetService</th>\n",
              "      <td>0</td>\n",
              "      <td>0.0</td>\n",
              "    </tr>\n",
              "    <tr>\n",
              "      <th>HasMultiplePhoneNumbers</th>\n",
              "      <td>0</td>\n",
              "      <td>0.0</td>\n",
              "    </tr>\n",
              "    <tr>\n",
              "      <th>HasPhoneService</th>\n",
              "      <td>0</td>\n",
              "      <td>0.0</td>\n",
              "    </tr>\n",
              "    <tr>\n",
              "      <th>HasChild</th>\n",
              "      <td>0</td>\n",
              "      <td>0.0</td>\n",
              "    </tr>\n",
              "    <tr>\n",
              "      <th>HasPartner</th>\n",
              "      <td>0</td>\n",
              "      <td>0.0</td>\n",
              "    </tr>\n",
              "    <tr>\n",
              "      <th>IsSeniorCitizen</th>\n",
              "      <td>0</td>\n",
              "      <td>0.0</td>\n",
              "    </tr>\n",
              "    <tr>\n",
              "      <th>Sex</th>\n",
              "      <td>0</td>\n",
              "      <td>0.0</td>\n",
              "    </tr>\n",
              "    <tr>\n",
              "      <th>TotalSpent</th>\n",
              "      <td>0</td>\n",
              "      <td>0.0</td>\n",
              "    </tr>\n",
              "    <tr>\n",
              "      <th>Churn</th>\n",
              "      <td>0</td>\n",
              "      <td>0.0</td>\n",
              "    </tr>\n",
              "  </tbody>\n",
              "</table>\n",
              "</div>\n",
              "      <button class=\"colab-df-convert\" onclick=\"convertToInteractive('df-8bd6bd00-8734-4259-965b-144fbce66d0a')\"\n",
              "              title=\"Convert this dataframe to an interactive table.\"\n",
              "              style=\"display:none;\">\n",
              "        \n",
              "  <svg xmlns=\"http://www.w3.org/2000/svg\" height=\"24px\"viewBox=\"0 0 24 24\"\n",
              "       width=\"24px\">\n",
              "    <path d=\"M0 0h24v24H0V0z\" fill=\"none\"/>\n",
              "    <path d=\"M18.56 5.44l.94 2.06.94-2.06 2.06-.94-2.06-.94-.94-2.06-.94 2.06-2.06.94zm-11 1L8.5 8.5l.94-2.06 2.06-.94-2.06-.94L8.5 2.5l-.94 2.06-2.06.94zm10 10l.94 2.06.94-2.06 2.06-.94-2.06-.94-.94-2.06-.94 2.06-2.06.94z\"/><path d=\"M17.41 7.96l-1.37-1.37c-.4-.4-.92-.59-1.43-.59-.52 0-1.04.2-1.43.59L10.3 9.45l-7.72 7.72c-.78.78-.78 2.05 0 2.83L4 21.41c.39.39.9.59 1.41.59.51 0 1.02-.2 1.41-.59l7.78-7.78 2.81-2.81c.8-.78.8-2.07 0-2.86zM5.41 20L4 18.59l7.72-7.72 1.47 1.35L5.41 20z\"/>\n",
              "  </svg>\n",
              "      </button>\n",
              "      \n",
              "  <style>\n",
              "    .colab-df-container {\n",
              "      display:flex;\n",
              "      flex-wrap:wrap;\n",
              "      gap: 12px;\n",
              "    }\n",
              "\n",
              "    .colab-df-convert {\n",
              "      background-color: #E8F0FE;\n",
              "      border: none;\n",
              "      border-radius: 50%;\n",
              "      cursor: pointer;\n",
              "      display: none;\n",
              "      fill: #1967D2;\n",
              "      height: 32px;\n",
              "      padding: 0 0 0 0;\n",
              "      width: 32px;\n",
              "    }\n",
              "\n",
              "    .colab-df-convert:hover {\n",
              "      background-color: #E2EBFA;\n",
              "      box-shadow: 0px 1px 2px rgba(60, 64, 67, 0.3), 0px 1px 3px 1px rgba(60, 64, 67, 0.15);\n",
              "      fill: #174EA6;\n",
              "    }\n",
              "\n",
              "    [theme=dark] .colab-df-convert {\n",
              "      background-color: #3B4455;\n",
              "      fill: #D2E3FC;\n",
              "    }\n",
              "\n",
              "    [theme=dark] .colab-df-convert:hover {\n",
              "      background-color: #434B5C;\n",
              "      box-shadow: 0px 1px 3px 1px rgba(0, 0, 0, 0.15);\n",
              "      filter: drop-shadow(0px 1px 2px rgba(0, 0, 0, 0.3));\n",
              "      fill: #FFFFFF;\n",
              "    }\n",
              "  </style>\n",
              "\n",
              "      <script>\n",
              "        const buttonEl =\n",
              "          document.querySelector('#df-8bd6bd00-8734-4259-965b-144fbce66d0a button.colab-df-convert');\n",
              "        buttonEl.style.display =\n",
              "          google.colab.kernel.accessAllowed ? 'block' : 'none';\n",
              "\n",
              "        async function convertToInteractive(key) {\n",
              "          const element = document.querySelector('#df-8bd6bd00-8734-4259-965b-144fbce66d0a');\n",
              "          const dataTable =\n",
              "            await google.colab.kernel.invokeFunction('convertToInteractive',\n",
              "                                                     [key], {});\n",
              "          if (!dataTable) return;\n",
              "\n",
              "          const docLinkHtml = 'Like what you see? Visit the ' +\n",
              "            '<a target=\"_blank\" href=https://colab.research.google.com/notebooks/data_table.ipynb>data table notebook</a>'\n",
              "            + ' to learn more about interactive tables.';\n",
              "          element.innerHTML = '';\n",
              "          dataTable['output_type'] = 'display_data';\n",
              "          await google.colab.output.renderOutput(dataTable, element);\n",
              "          const docLink = document.createElement('div');\n",
              "          docLink.innerHTML = docLinkHtml;\n",
              "          element.appendChild(docLink);\n",
              "        }\n",
              "      </script>\n",
              "    </div>\n",
              "  </div>\n",
              "  "
            ]
          },
          "metadata": {},
          "execution_count": 7
        }
      ]
    },
    {
      "cell_type": "code",
      "source": [
        "train.sort_values(\"TotalSpent\").head(10)"
      ],
      "metadata": {
        "colab": {
          "base_uri": "https://localhost:8080/",
          "height": 548
        },
        "id": "qmUWK_8TlznP",
        "outputId": "457feace-ce25-4f8a-e68a-42a82453a9ab"
      },
      "execution_count": null,
      "outputs": [
        {
          "output_type": "execute_result",
          "data": {
            "text/plain": [
              "      ClientPeriod  MonthlySpending TotalSpent     Sex  IsSeniorCitizen  \\\n",
              "4598             0            56.05             Female                0   \n",
              "2543             0            19.70               Male                0   \n",
              "4551             0            52.55             Female                0   \n",
              "1707             0            73.35             Female                0   \n",
              "3078             0            80.85             Female                0   \n",
              "4326             0            25.35               Male                0   \n",
              "1048             0            25.75               Male                0   \n",
              "3697             0            20.00             Female                0   \n",
              "4002             0            61.90               Male                0   \n",
              "3343             5            24.30      100.2    Male                0   \n",
              "\n",
              "     HasPartner HasChild HasPhoneService HasMultiplePhoneNumbers  \\\n",
              "4598        Yes      Yes              No        No phone service   \n",
              "2543        Yes      Yes             Yes                      No   \n",
              "4551        Yes      Yes              No        No phone service   \n",
              "1707        Yes      Yes             Yes                     Yes   \n",
              "3078        Yes      Yes             Yes                      No   \n",
              "4326        Yes      Yes             Yes                     Yes   \n",
              "1048        Yes      Yes             Yes                     Yes   \n",
              "3697        Yes      Yes             Yes                      No   \n",
              "4002         No      Yes             Yes                     Yes   \n",
              "3343         No       No              No        No phone service   \n",
              "\n",
              "     HasInternetService HasOnlineSecurityService      HasOnlineBackup  \\\n",
              "4598                DSL                      Yes                  Yes   \n",
              "2543                 No      No internet service  No internet service   \n",
              "4551                DSL                      Yes                   No   \n",
              "1707                DSL                       No                  Yes   \n",
              "3078                DSL                      Yes                  Yes   \n",
              "4326                 No      No internet service  No internet service   \n",
              "1048                 No      No internet service  No internet service   \n",
              "3697                 No      No internet service  No internet service   \n",
              "4002                DSL                      Yes                  Yes   \n",
              "3343                DSL                       No                   No   \n",
              "\n",
              "      HasDeviceProtection HasTechSupportAccess          HasOnlineTV  \\\n",
              "4598                  Yes                  Yes                  Yes   \n",
              "2543  No internet service  No internet service  No internet service   \n",
              "4551                  Yes                  Yes                  Yes   \n",
              "1707                  Yes                  Yes                  Yes   \n",
              "3078                  Yes                   No                  Yes   \n",
              "4326  No internet service  No internet service  No internet service   \n",
              "1048  No internet service  No internet service  No internet service   \n",
              "3697  No internet service  No internet service  No internet service   \n",
              "4002                   No                  Yes                   No   \n",
              "3343                   No                   No                   No   \n",
              "\n",
              "     HasMovieSubscription HasContractPhone IsBillingPaperless  \\\n",
              "4598                   No         Two year                 No   \n",
              "2543  No internet service         One year                Yes   \n",
              "4551                   No         Two year                Yes   \n",
              "1707                   No         Two year                 No   \n",
              "3078                  Yes         Two year                 No   \n",
              "4326  No internet service         Two year                 No   \n",
              "1048  No internet service         Two year                 No   \n",
              "3697  No internet service         Two year                 No   \n",
              "4002                   No         Two year                Yes   \n",
              "3343                   No   Month-to-month                 No   \n",
              "\n",
              "                  PaymentMethod  Churn  \n",
              "4598    Credit card (automatic)      0  \n",
              "2543               Mailed check      0  \n",
              "4551  Bank transfer (automatic)      0  \n",
              "1707               Mailed check      0  \n",
              "3078               Mailed check      0  \n",
              "4326               Mailed check      0  \n",
              "1048               Mailed check      0  \n",
              "3697               Mailed check      0  \n",
              "4002  Bank transfer (automatic)      0  \n",
              "3343               Mailed check      0  "
            ],
            "text/html": [
              "\n",
              "  <div id=\"df-195e46ef-bc07-4a0a-93c2-36b97cb03ce6\">\n",
              "    <div class=\"colab-df-container\">\n",
              "      <div>\n",
              "<style scoped>\n",
              "    .dataframe tbody tr th:only-of-type {\n",
              "        vertical-align: middle;\n",
              "    }\n",
              "\n",
              "    .dataframe tbody tr th {\n",
              "        vertical-align: top;\n",
              "    }\n",
              "\n",
              "    .dataframe thead th {\n",
              "        text-align: right;\n",
              "    }\n",
              "</style>\n",
              "<table border=\"1\" class=\"dataframe\">\n",
              "  <thead>\n",
              "    <tr style=\"text-align: right;\">\n",
              "      <th></th>\n",
              "      <th>ClientPeriod</th>\n",
              "      <th>MonthlySpending</th>\n",
              "      <th>TotalSpent</th>\n",
              "      <th>Sex</th>\n",
              "      <th>IsSeniorCitizen</th>\n",
              "      <th>HasPartner</th>\n",
              "      <th>HasChild</th>\n",
              "      <th>HasPhoneService</th>\n",
              "      <th>HasMultiplePhoneNumbers</th>\n",
              "      <th>HasInternetService</th>\n",
              "      <th>HasOnlineSecurityService</th>\n",
              "      <th>HasOnlineBackup</th>\n",
              "      <th>HasDeviceProtection</th>\n",
              "      <th>HasTechSupportAccess</th>\n",
              "      <th>HasOnlineTV</th>\n",
              "      <th>HasMovieSubscription</th>\n",
              "      <th>HasContractPhone</th>\n",
              "      <th>IsBillingPaperless</th>\n",
              "      <th>PaymentMethod</th>\n",
              "      <th>Churn</th>\n",
              "    </tr>\n",
              "  </thead>\n",
              "  <tbody>\n",
              "    <tr>\n",
              "      <th>4598</th>\n",
              "      <td>0</td>\n",
              "      <td>56.05</td>\n",
              "      <td></td>\n",
              "      <td>Female</td>\n",
              "      <td>0</td>\n",
              "      <td>Yes</td>\n",
              "      <td>Yes</td>\n",
              "      <td>No</td>\n",
              "      <td>No phone service</td>\n",
              "      <td>DSL</td>\n",
              "      <td>Yes</td>\n",
              "      <td>Yes</td>\n",
              "      <td>Yes</td>\n",
              "      <td>Yes</td>\n",
              "      <td>Yes</td>\n",
              "      <td>No</td>\n",
              "      <td>Two year</td>\n",
              "      <td>No</td>\n",
              "      <td>Credit card (automatic)</td>\n",
              "      <td>0</td>\n",
              "    </tr>\n",
              "    <tr>\n",
              "      <th>2543</th>\n",
              "      <td>0</td>\n",
              "      <td>19.70</td>\n",
              "      <td></td>\n",
              "      <td>Male</td>\n",
              "      <td>0</td>\n",
              "      <td>Yes</td>\n",
              "      <td>Yes</td>\n",
              "      <td>Yes</td>\n",
              "      <td>No</td>\n",
              "      <td>No</td>\n",
              "      <td>No internet service</td>\n",
              "      <td>No internet service</td>\n",
              "      <td>No internet service</td>\n",
              "      <td>No internet service</td>\n",
              "      <td>No internet service</td>\n",
              "      <td>No internet service</td>\n",
              "      <td>One year</td>\n",
              "      <td>Yes</td>\n",
              "      <td>Mailed check</td>\n",
              "      <td>0</td>\n",
              "    </tr>\n",
              "    <tr>\n",
              "      <th>4551</th>\n",
              "      <td>0</td>\n",
              "      <td>52.55</td>\n",
              "      <td></td>\n",
              "      <td>Female</td>\n",
              "      <td>0</td>\n",
              "      <td>Yes</td>\n",
              "      <td>Yes</td>\n",
              "      <td>No</td>\n",
              "      <td>No phone service</td>\n",
              "      <td>DSL</td>\n",
              "      <td>Yes</td>\n",
              "      <td>No</td>\n",
              "      <td>Yes</td>\n",
              "      <td>Yes</td>\n",
              "      <td>Yes</td>\n",
              "      <td>No</td>\n",
              "      <td>Two year</td>\n",
              "      <td>Yes</td>\n",
              "      <td>Bank transfer (automatic)</td>\n",
              "      <td>0</td>\n",
              "    </tr>\n",
              "    <tr>\n",
              "      <th>1707</th>\n",
              "      <td>0</td>\n",
              "      <td>73.35</td>\n",
              "      <td></td>\n",
              "      <td>Female</td>\n",
              "      <td>0</td>\n",
              "      <td>Yes</td>\n",
              "      <td>Yes</td>\n",
              "      <td>Yes</td>\n",
              "      <td>Yes</td>\n",
              "      <td>DSL</td>\n",
              "      <td>No</td>\n",
              "      <td>Yes</td>\n",
              "      <td>Yes</td>\n",
              "      <td>Yes</td>\n",
              "      <td>Yes</td>\n",
              "      <td>No</td>\n",
              "      <td>Two year</td>\n",
              "      <td>No</td>\n",
              "      <td>Mailed check</td>\n",
              "      <td>0</td>\n",
              "    </tr>\n",
              "    <tr>\n",
              "      <th>3078</th>\n",
              "      <td>0</td>\n",
              "      <td>80.85</td>\n",
              "      <td></td>\n",
              "      <td>Female</td>\n",
              "      <td>0</td>\n",
              "      <td>Yes</td>\n",
              "      <td>Yes</td>\n",
              "      <td>Yes</td>\n",
              "      <td>No</td>\n",
              "      <td>DSL</td>\n",
              "      <td>Yes</td>\n",
              "      <td>Yes</td>\n",
              "      <td>Yes</td>\n",
              "      <td>No</td>\n",
              "      <td>Yes</td>\n",
              "      <td>Yes</td>\n",
              "      <td>Two year</td>\n",
              "      <td>No</td>\n",
              "      <td>Mailed check</td>\n",
              "      <td>0</td>\n",
              "    </tr>\n",
              "    <tr>\n",
              "      <th>4326</th>\n",
              "      <td>0</td>\n",
              "      <td>25.35</td>\n",
              "      <td></td>\n",
              "      <td>Male</td>\n",
              "      <td>0</td>\n",
              "      <td>Yes</td>\n",
              "      <td>Yes</td>\n",
              "      <td>Yes</td>\n",
              "      <td>Yes</td>\n",
              "      <td>No</td>\n",
              "      <td>No internet service</td>\n",
              "      <td>No internet service</td>\n",
              "      <td>No internet service</td>\n",
              "      <td>No internet service</td>\n",
              "      <td>No internet service</td>\n",
              "      <td>No internet service</td>\n",
              "      <td>Two year</td>\n",
              "      <td>No</td>\n",
              "      <td>Mailed check</td>\n",
              "      <td>0</td>\n",
              "    </tr>\n",
              "    <tr>\n",
              "      <th>1048</th>\n",
              "      <td>0</td>\n",
              "      <td>25.75</td>\n",
              "      <td></td>\n",
              "      <td>Male</td>\n",
              "      <td>0</td>\n",
              "      <td>Yes</td>\n",
              "      <td>Yes</td>\n",
              "      <td>Yes</td>\n",
              "      <td>Yes</td>\n",
              "      <td>No</td>\n",
              "      <td>No internet service</td>\n",
              "      <td>No internet service</td>\n",
              "      <td>No internet service</td>\n",
              "      <td>No internet service</td>\n",
              "      <td>No internet service</td>\n",
              "      <td>No internet service</td>\n",
              "      <td>Two year</td>\n",
              "      <td>No</td>\n",
              "      <td>Mailed check</td>\n",
              "      <td>0</td>\n",
              "    </tr>\n",
              "    <tr>\n",
              "      <th>3697</th>\n",
              "      <td>0</td>\n",
              "      <td>20.00</td>\n",
              "      <td></td>\n",
              "      <td>Female</td>\n",
              "      <td>0</td>\n",
              "      <td>Yes</td>\n",
              "      <td>Yes</td>\n",
              "      <td>Yes</td>\n",
              "      <td>No</td>\n",
              "      <td>No</td>\n",
              "      <td>No internet service</td>\n",
              "      <td>No internet service</td>\n",
              "      <td>No internet service</td>\n",
              "      <td>No internet service</td>\n",
              "      <td>No internet service</td>\n",
              "      <td>No internet service</td>\n",
              "      <td>Two year</td>\n",
              "      <td>No</td>\n",
              "      <td>Mailed check</td>\n",
              "      <td>0</td>\n",
              "    </tr>\n",
              "    <tr>\n",
              "      <th>4002</th>\n",
              "      <td>0</td>\n",
              "      <td>61.90</td>\n",
              "      <td></td>\n",
              "      <td>Male</td>\n",
              "      <td>0</td>\n",
              "      <td>No</td>\n",
              "      <td>Yes</td>\n",
              "      <td>Yes</td>\n",
              "      <td>Yes</td>\n",
              "      <td>DSL</td>\n",
              "      <td>Yes</td>\n",
              "      <td>Yes</td>\n",
              "      <td>No</td>\n",
              "      <td>Yes</td>\n",
              "      <td>No</td>\n",
              "      <td>No</td>\n",
              "      <td>Two year</td>\n",
              "      <td>Yes</td>\n",
              "      <td>Bank transfer (automatic)</td>\n",
              "      <td>0</td>\n",
              "    </tr>\n",
              "    <tr>\n",
              "      <th>3343</th>\n",
              "      <td>5</td>\n",
              "      <td>24.30</td>\n",
              "      <td>100.2</td>\n",
              "      <td>Male</td>\n",
              "      <td>0</td>\n",
              "      <td>No</td>\n",
              "      <td>No</td>\n",
              "      <td>No</td>\n",
              "      <td>No phone service</td>\n",
              "      <td>DSL</td>\n",
              "      <td>No</td>\n",
              "      <td>No</td>\n",
              "      <td>No</td>\n",
              "      <td>No</td>\n",
              "      <td>No</td>\n",
              "      <td>No</td>\n",
              "      <td>Month-to-month</td>\n",
              "      <td>No</td>\n",
              "      <td>Mailed check</td>\n",
              "      <td>0</td>\n",
              "    </tr>\n",
              "  </tbody>\n",
              "</table>\n",
              "</div>\n",
              "      <button class=\"colab-df-convert\" onclick=\"convertToInteractive('df-195e46ef-bc07-4a0a-93c2-36b97cb03ce6')\"\n",
              "              title=\"Convert this dataframe to an interactive table.\"\n",
              "              style=\"display:none;\">\n",
              "        \n",
              "  <svg xmlns=\"http://www.w3.org/2000/svg\" height=\"24px\"viewBox=\"0 0 24 24\"\n",
              "       width=\"24px\">\n",
              "    <path d=\"M0 0h24v24H0V0z\" fill=\"none\"/>\n",
              "    <path d=\"M18.56 5.44l.94 2.06.94-2.06 2.06-.94-2.06-.94-.94-2.06-.94 2.06-2.06.94zm-11 1L8.5 8.5l.94-2.06 2.06-.94-2.06-.94L8.5 2.5l-.94 2.06-2.06.94zm10 10l.94 2.06.94-2.06 2.06-.94-2.06-.94-.94-2.06-.94 2.06-2.06.94z\"/><path d=\"M17.41 7.96l-1.37-1.37c-.4-.4-.92-.59-1.43-.59-.52 0-1.04.2-1.43.59L10.3 9.45l-7.72 7.72c-.78.78-.78 2.05 0 2.83L4 21.41c.39.39.9.59 1.41.59.51 0 1.02-.2 1.41-.59l7.78-7.78 2.81-2.81c.8-.78.8-2.07 0-2.86zM5.41 20L4 18.59l7.72-7.72 1.47 1.35L5.41 20z\"/>\n",
              "  </svg>\n",
              "      </button>\n",
              "      \n",
              "  <style>\n",
              "    .colab-df-container {\n",
              "      display:flex;\n",
              "      flex-wrap:wrap;\n",
              "      gap: 12px;\n",
              "    }\n",
              "\n",
              "    .colab-df-convert {\n",
              "      background-color: #E8F0FE;\n",
              "      border: none;\n",
              "      border-radius: 50%;\n",
              "      cursor: pointer;\n",
              "      display: none;\n",
              "      fill: #1967D2;\n",
              "      height: 32px;\n",
              "      padding: 0 0 0 0;\n",
              "      width: 32px;\n",
              "    }\n",
              "\n",
              "    .colab-df-convert:hover {\n",
              "      background-color: #E2EBFA;\n",
              "      box-shadow: 0px 1px 2px rgba(60, 64, 67, 0.3), 0px 1px 3px 1px rgba(60, 64, 67, 0.15);\n",
              "      fill: #174EA6;\n",
              "    }\n",
              "\n",
              "    [theme=dark] .colab-df-convert {\n",
              "      background-color: #3B4455;\n",
              "      fill: #D2E3FC;\n",
              "    }\n",
              "\n",
              "    [theme=dark] .colab-df-convert:hover {\n",
              "      background-color: #434B5C;\n",
              "      box-shadow: 0px 1px 3px 1px rgba(0, 0, 0, 0.15);\n",
              "      filter: drop-shadow(0px 1px 2px rgba(0, 0, 0, 0.3));\n",
              "      fill: #FFFFFF;\n",
              "    }\n",
              "  </style>\n",
              "\n",
              "      <script>\n",
              "        const buttonEl =\n",
              "          document.querySelector('#df-195e46ef-bc07-4a0a-93c2-36b97cb03ce6 button.colab-df-convert');\n",
              "        buttonEl.style.display =\n",
              "          google.colab.kernel.accessAllowed ? 'block' : 'none';\n",
              "\n",
              "        async function convertToInteractive(key) {\n",
              "          const element = document.querySelector('#df-195e46ef-bc07-4a0a-93c2-36b97cb03ce6');\n",
              "          const dataTable =\n",
              "            await google.colab.kernel.invokeFunction('convertToInteractive',\n",
              "                                                     [key], {});\n",
              "          if (!dataTable) return;\n",
              "\n",
              "          const docLinkHtml = 'Like what you see? Visit the ' +\n",
              "            '<a target=\"_blank\" href=https://colab.research.google.com/notebooks/data_table.ipynb>data table notebook</a>'\n",
              "            + ' to learn more about interactive tables.';\n",
              "          element.innerHTML = '';\n",
              "          dataTable['output_type'] = 'display_data';\n",
              "          await google.colab.output.renderOutput(dataTable, element);\n",
              "          const docLink = document.createElement('div');\n",
              "          docLink.innerHTML = docLinkHtml;\n",
              "          element.appendChild(docLink);\n",
              "        }\n",
              "      </script>\n",
              "    </div>\n",
              "  </div>\n",
              "  "
            ]
          },
          "metadata": {},
          "execution_count": 8
        }
      ]
    },
    {
      "cell_type": "code",
      "source": [
        "train[\"TotalSpent\"].replace(to_replace=\" \", value='0', inplace= True)\n",
        "train[\"TotalSpent\"] = train.TotalSpent.astype(float)\n",
        "\n",
        "test[\"TotalSpent\"].replace(to_replace=\" \", value='0', inplace= True)\n",
        "test[\"TotalSpent\"] = test.TotalSpent.astype(float)\n",
        "\n",
        "len(train[train[\"TotalSpent\"] == ' '])"
      ],
      "metadata": {
        "colab": {
          "base_uri": "https://localhost:8080/"
        },
        "id": "SP6fALiDoiBt",
        "outputId": "d92452d7-3529-4dd6-d69a-a3f84fa8f48d"
      },
      "execution_count": null,
      "outputs": [
        {
          "output_type": "execute_result",
          "data": {
            "text/plain": [
              "0"
            ]
          },
          "metadata": {},
          "execution_count": 9
        }
      ]
    },
    {
      "cell_type": "code",
      "source": [
        "y_train, X_train = train['Churn'], train.iloc[:,:-1]\n",
        "X_train.head()"
      ],
      "metadata": {
        "id": "DQ5TfnGZA-KG"
      },
      "execution_count": null,
      "outputs": []
    },
    {
      "cell_type": "code",
      "source": [
        "print(f\"Duplicated rows: {train.duplicated(keep=False).sum()}\")\n",
        "print(f\"Duplicated rows without target: {train.drop('Churn', axis=1).duplicated(keep=False).sum()}\")"
      ],
      "metadata": {
        "colab": {
          "base_uri": "https://localhost:8080/"
        },
        "id": "2IzSxlTTWI8n",
        "outputId": "ce1ff3e4-c162-4f9c-cd22-f374c6dc876d"
      },
      "execution_count": null,
      "outputs": [
        {
          "output_type": "stream",
          "name": "stdout",
          "text": [
            "Duplicated rows: 28\n",
            "Duplicated rows without target: 41\n"
          ]
        }
      ]
    },
    {
      "cell_type": "code",
      "source": [
        "train.iloc[:,:-1].drop_duplicates(inplace=True);\n",
        "train.drop(index=train[train.drop(target_col, axis=1).duplicated(keep=False)].index, inplace=True)"
      ],
      "metadata": {
        "id": "BFY_aOR5FPSP"
      },
      "execution_count": null,
      "outputs": []
    },
    {
      "cell_type": "code",
      "source": [
        "print(f\"Duplicated rows: {train.duplicated(keep=False).sum()}\")\n",
        "print(f\"Duplicated rows without target: {train.drop('Churn', axis=1).duplicated(keep=False).sum()}\")"
      ],
      "metadata": {
        "colab": {
          "base_uri": "https://localhost:8080/"
        },
        "id": "fzFGL6ri9mJT",
        "outputId": "8f9e2f6a-fb52-431f-c993-02f72a6890ac"
      },
      "execution_count": null,
      "outputs": [
        {
          "output_type": "stream",
          "name": "stdout",
          "text": [
            "Duplicated rows: 0\n",
            "Duplicated rows without target: 0\n"
          ]
        }
      ]
    },
    {
      "cell_type": "code",
      "metadata": {
        "id": "tHC6gWabEEZA"
      },
      "source": [
        "numeric_data = train[num_cols]\n",
        "y_train, X_train = train['Churn'], train[feature_cols]\n",
        "categorial_data = train[cat_cols]"
      ],
      "execution_count": null,
      "outputs": []
    },
    {
      "cell_type": "markdown",
      "metadata": {
        "id": "dK370bPCEEZD"
      },
      "source": [
        "## Анализ данных\n",
        "\n",
        "1) Построение гистограмм для численных призанков. Для категориальных подосчёт количества каждого значения для каждого признака.\n",
        "\n",
        "2) Определение, являются ли классы несбалансированными.\n",
        "\n",
        "---"
      ]
    },
    {
      "cell_type": "markdown",
      "source": [
        "*1) Построение гистограмм для численных призанков. Для категориальных подосчёт количества каждого значения для каждого признака.*"
      ],
      "metadata": {
        "id": "6CrPUFo4BD2-"
      }
    },
    {
      "cell_type": "code",
      "metadata": {
        "id": "NZkbgFJZEEZE",
        "colab": {
          "base_uri": "https://localhost:8080/",
          "height": 277
        },
        "outputId": "88fed68f-61b2-4ec3-acc0-bf745803be96"
      },
      "source": [
        "fig, ax = plt.subplots(figsize=(20, 4), ncols=3)\n",
        "for i in range(3):\n",
        "    ax[i].set_title(num_cols[i])\n",
        "    train[num_cols[i]].plot(kind=\"hist\", ec=\"black\", ax=ax[i])\n",
        "    ax[i].axvline(numeric_data[num_cols[i]].mean(), color='k', linestyle='dashed', linewidth=1)\n",
        "    min_ylim, max_ylim = ax[i].get_ylim()\n",
        "    ax[i].text(numeric_data[num_cols[i]].mean()*1.1, max_ylim*0.9, 'Mean: {:.2f}'.format(numeric_data[num_cols[i]].mean()))"
      ],
      "execution_count": null,
      "outputs": [
        {
          "output_type": "display_data",
          "data": {
            "text/plain": [
              "<Figure size 1440x288 with 3 Axes>"
            ],
            "image/png": "[encoded data removed]"
          },
          "metadata": {
            "needs_background": "light"
          }
        }
      ]
    },
    {
      "cell_type": "code",
      "source": [
        "fig, axes = plt.subplots(5, 4, figsize=(20, 20))\n",
        "for ax, col in zip(axes.flatten(), train.columns):\n",
        "    ax.set_title(col)\n",
        "    if col in cat_cols or col == target_col:\n",
        "        ax.pie(train[col].value_counts(), autopct=\"%1.1f%%\", labels=train[col].value_counts().index)\n",
        "    else:\n",
        "        train[col].plot(kind=\"hist\", ec=\"black\", ax=ax)\n",
        "        ax.axvline(train[col].mean(), color='k', linestyle='dashed', linewidth=1)\n",
        "        min_ylim, max_ylim = ax.get_ylim()\n",
        "        ax.text(train[col].mean()*1.1, max_ylim*0.9, 'Mean: {:.2f}'.format(train[col].mean()))"
      ],
      "metadata": {
        "colab": {
          "base_uri": "https://localhost:8080/",
          "height": 1000
        },
        "id": "JYOuYujVHLIQ",
        "outputId": "4cefd28d-b8c5-44f0-a4b0-431fdfaefe82"
      },
      "execution_count": null,
      "outputs": [
        {
          "output_type": "display_data",
          "data": {
            "text/plain": [
              "<Figure size 1440x1440 with 20 Axes>"
            ],
            "image/png": "[encoded data removed]"
          },
          "metadata": {
            "needs_background": "light"
          }
        }
      ]
    },
    {
      "cell_type": "markdown",
      "metadata": {
        "id": "DviiJd8REEZK"
      },
      "source": [
        "## Применение линейных моделей\n",
        "\n",
        "1) Обработка данных для того, чтобы к ним можно было применить LogisticRegression (нормирование числовых признаков и кодирование категориальных)\n",
        "\n",
        "2) Тестирование гипперпараметров с помощью кроссвалидации по метрике ROC-AUC.\n",
        "\n",
        "3) Создание единного Pipeline для преобразования данных и LogisticRegression\n",
        "\n",
        "---"
      ]
    },
    {
      "cell_type": "markdown",
      "source": [
        "*1) Обработка данных*"
      ],
      "metadata": {
        "id": "FdpOt5xL_Oal"
      }
    },
    {
      "cell_type": "code",
      "metadata": {
        "id": "xHCLDmwqEEZL"
      },
      "source": [
        "from sklearn.linear_model import LogisticRegression, LogisticRegressionCV\n",
        "from sklearn.model_selection import train_test_split, GridSearchCV\n",
        "from sklearn.preprocessing import StandardScaler, RobustScaler, LabelEncoder, OneHotEncoder\n",
        "from sklearn.pipeline import make_pipeline"
      ],
      "execution_count": null,
      "outputs": []
    },
    {
      "cell_type": "code",
      "source": [
        "scaler = StandardScaler()\n",
        "\n",
        "num_scaled_train = scaler.fit_transform(train[num_cols])\n",
        "num_scaled_test = scaler.transform(test[num_cols])"
      ],
      "metadata": {
        "id": "VKJ1tmteS2vU"
      },
      "execution_count": null,
      "outputs": []
    },
    {
      "cell_type": "code",
      "metadata": {
        "id": "P2Yv3uYtEEZO"
      },
      "source": [
        "Norm_cod_train = pd.concat([pd.DataFrame(columns=num_cols, data=num_scaled_train), pd.get_dummies(train[cat_cols]).reset_index(drop=True)], axis=1)\n",
        "Norm_cod_test = pd.concat([pd.DataFrame(columns=num_cols, data=num_scaled_test), pd.get_dummies(test[cat_cols]).reset_index(drop=True)], axis=1)\n",
        "Norm_cod_train.head(2)"
      ],
      "execution_count": null,
      "outputs": []
    },
    {
      "cell_type": "code",
      "source": [
        "X_train_spl, X_test_spl, y_train_spl, y_test_spl = train_test_split(Norm_cod_train, y_train, test_size=0.2)"
      ],
      "metadata": {
        "id": "0CaaPeS5KlA6"
      },
      "execution_count": null,
      "outputs": []
    },
    {
      "cell_type": "code",
      "source": [
        "X_train_spl.head(2)"
      ],
      "metadata": {
        "id": "_2UbASvKUC97"
      },
      "execution_count": null,
      "outputs": []
    },
    {
      "cell_type": "code",
      "source": [
        "LR = LogisticRegression()\n",
        "params = {'C' : [0.001, 0.01, 0.1, 1, 10, 100],\n",
        "    'solver' : ['newton-cg', 'lbfgs', 'liblinear', 'sag']}\n",
        "CV_model = GridSearchCV(estimator=LR, param_grid=params, cv=5, scoring='roc_auc', n_jobs=-1, verbose=10, refit=True)\n",
        "CV_model.fit(X_train_spl , y_train_spl)"
      ],
      "metadata": {
        "colab": {
          "base_uri": "https://localhost:8080/"
        },
        "id": "EsqJwu2XU99E",
        "outputId": "171b667c-8582-493b-f034-9916fcca27b9"
      },
      "execution_count": null,
      "outputs": [
        {
          "output_type": "stream",
          "name": "stdout",
          "text": [
            "Fitting 5 folds for each of 24 candidates, totalling 120 fits\n"
          ]
        },
        {
          "output_type": "stream",
          "name": "stderr",
          "text": [
            "/usr/local/lib/python3.7/dist-packages/sklearn/linear_model/_sag.py:354: ConvergenceWarning: The max_iter was reached which means the coef_ did not converge\n",
            "  ConvergenceWarning,\n"
          ]
        },
        {
          "output_type": "execute_result",
          "data": {
            "text/plain": [
              "GridSearchCV(cv=5, estimator=LogisticRegression(), n_jobs=-1,\n",
              "             param_grid={'C': [0.001, 0.01, 0.1, 1, 10, 100],\n",
              "                         'solver': ['newton-cg', 'lbfgs', 'liblinear', 'sag']},\n",
              "             scoring='roc_auc', verbose=10)"
            ]
          },
          "metadata": {},
          "execution_count": 24
        }
      ]
    },
    {
      "cell_type": "code",
      "source": [
        "CV_model.best_estimator_"
      ],
      "metadata": {
        "colab": {
          "base_uri": "https://localhost:8080/"
        },
        "id": "68E-z33lYUMh",
        "outputId": "8de0995f-9431-490a-f66c-dae3a55768b6"
      },
      "execution_count": null,
      "outputs": [
        {
          "output_type": "execute_result",
          "data": {
            "text/plain": [
              "LogisticRegression(C=10, solver='sag')"
            ]
          },
          "metadata": {},
          "execution_count": 25
        }
      ]
    },
    {
      "cell_type": "code",
      "source": [
        "CV_model.best_score_"
      ],
      "metadata": {
        "colab": {
          "base_uri": "https://localhost:8080/"
        },
        "id": "vTZgqBnWNyBO",
        "outputId": "135126d5-b930-4b99-bd69-3bbd2628d901"
      },
      "execution_count": null,
      "outputs": [
        {
          "output_type": "execute_result",
          "data": {
            "text/plain": [
              "0.8407494171841254"
            ]
          },
          "metadata": {},
          "execution_count": 26
        }
      ]
    },
    {
      "cell_type": "code",
      "source": [
        "roc_auc_score(y_test_spl, CV_model.best_estimator_.predict_proba(X_test_spl)[:, 1])"
      ],
      "metadata": {
        "id": "4V6rhdUAd4h_",
        "colab": {
          "base_uri": "https://localhost:8080/"
        },
        "outputId": "eeac000a-e3fe-4d05-9606-974bfae26522"
      },
      "execution_count": null,
      "outputs": [
        {
          "output_type": "execute_result",
          "data": {
            "text/plain": [
              "0.8560174162152933"
            ]
          },
          "metadata": {},
          "execution_count": 27
        }
      ]
    },
    {
      "cell_type": "markdown",
      "source": [
        "*2) Тестирование гипперпараметров с помощью кроссвалидации по метрике ROC-AUC.*"
      ],
      "metadata": {
        "id": "HjX4O4yS-23z"
      }
    },
    {
      "cell_type": "code",
      "source": [
        "from sklearn.metrics import roc_auc_score, roc_curve\n",
        "\n",
        "y_train_predicted = CV_model.best_estimator_.predict_proba(X_train_spl)[:, 1]\n",
        "y_test_predicted = CV_model.best_estimator_.predict_proba(X_test_spl)[:, 1]\n",
        "\n",
        "train_auc = roc_auc_score(y_train_spl, y_train_predicted)\n",
        "test_auc = roc_auc_score(y_test_spl, y_test_predicted)\n",
        "\n",
        "plt.figure(figsize=(20,10))\n",
        "plt.plot(*roc_curve(y_train_spl, y_train_predicted)[:2], label='train AUC={:.4f}'.format(train_auc))\n",
        "plt.plot(*roc_curve(y_test_spl, y_test_predicted)[:2], label='test AUC={:.4f}'.format(test_auc))\n",
        "legend_box = plt.legend(fontsize='large', framealpha=1).get_frame()\n",
        "legend_box.set_facecolor(\"white\")\n",
        "legend_box.set_edgecolor(\"black\")\n",
        "plt.plot(np.linspace(0,1,100), np.linspace(0,1,100))\n",
        "plt.show()"
      ],
      "metadata": {
        "colab": {
          "base_uri": "https://localhost:8080/",
          "height": 592
        },
        "id": "b6tVNcj1ZomX",
        "outputId": "35e71a89-0149-424e-8b39-a9a896851ace"
      },
      "execution_count": null,
      "outputs": [
        {
          "output_type": "display_data",
          "data": {
            "text/plain": [
              "<Figure size 1440x720 with 1 Axes>"
            ],
            "image/png": "[encoded data removed]"
          },
          "metadata": {
            "needs_background": "light"
          }
        }
      ]
    },
    {
      "cell_type": "markdown",
      "source": [
        "*3) Создание единного Pipeline для преобразования данных и LogisticRegression*"
      ],
      "metadata": {
        "id": "rpxUbDS1-96o"
      }
    },
    {
      "cell_type": "code",
      "source": [
        "from sklearn.pipeline import make_pipeline\n",
        "from sklearn.compose import ColumnTransformer"
      ],
      "metadata": {
        "id": "oigGHE4WOyL3"
      },
      "execution_count": null,
      "outputs": []
    },
    {
      "cell_type": "code",
      "source": [
        "# pipeline way\n",
        "y_train_P = y_train.reset_index(drop=True)\n",
        "X_train_P = train.drop(target_col, axis=1)\n",
        "\n",
        "prep_pipeline = ColumnTransformer([\n",
        "        ('num', StandardScaler(), num_cols),\n",
        "        ('cat', OneHotEncoder(sparse=False), cat_cols)\n",
        "    ])\n",
        "\n",
        "cls = make_pipeline(\n",
        "    prep_pipeline,\n",
        "    LogisticRegression(random_state=42, solver=\"saga\", max_iter=10000)\n",
        "    )\n",
        "\n",
        "param_grid = {\n",
        "    'logisticregression__penalty' : ['l1', 'l2', 'elasticnet', None],\n",
        "    'logisticregression__C': [100, 10, 1, 0.1, 0.01, 0.001],\n",
        "    'logisticregression__class_weight': ['balanced', None]\n",
        "}\n",
        "\n",
        "model = GridSearchCV(cls, param_grid, cv=5, verbose=0, scoring='roc_auc', refit=True, n_jobs=-1)\n",
        "model.fit(X_train_P, y_train_P)\n",
        "\n",
        "print(\"Best ROC-AUC metric:\", round(model.best_score_,4))\n",
        "print(\"Best estimator's parameters:\", model.best_params_)"
      ],
      "metadata": {
        "colab": {
          "base_uri": "https://localhost:8080/"
        },
        "id": "VsxBAf1NOMFK",
        "outputId": "a6417cae-8f5e-405e-8510-6c259cc8b92c"
      },
      "execution_count": null,
      "outputs": [
        {
          "output_type": "stream",
          "name": "stderr",
          "text": [
            "/usr/local/lib/python3.7/dist-packages/sklearn/model_selection/_validation.py:372: FitFailedWarning: \n",
            "120 fits failed out of a total of 240.\n",
            "The score on these train-test partitions for these parameters will be set to nan.\n",
            "If these failures are not expected, you can try to debug them by setting error_score='raise'.\n",
            "\n",
            "Below are more details about the failures:\n",
            "--------------------------------------------------------------------------------\n",
            "60 fits failed with the following error:\n",
            "Traceback (most recent call last):\n",
            "  File \"/usr/local/lib/python3.7/dist-packages/sklearn/model_selection/_validation.py\", line 680, in _fit_and_score\n",
            "    estimator.fit(X_train, y_train, **fit_params)\n",
            "  File \"/usr/local/lib/python3.7/dist-packages/sklearn/pipeline.py\", line 394, in fit\n",
            "    self._final_estimator.fit(Xt, y, **fit_params_last_step)\n",
            "  File \"/usr/local/lib/python3.7/dist-packages/sklearn/linear_model/_logistic.py\", line 1473, in fit\n",
            "    % self.l1_ratio\n",
            "ValueError: l1_ratio must be between 0 and 1; got (l1_ratio=None)\n",
            "\n",
            "--------------------------------------------------------------------------------\n",
            "60 fits failed with the following error:\n",
            "Traceback (most recent call last):\n",
            "  File \"/usr/local/lib/python3.7/dist-packages/sklearn/model_selection/_validation.py\", line 680, in _fit_and_score\n",
            "    estimator.fit(X_train, y_train, **fit_params)\n",
            "  File \"/usr/local/lib/python3.7/dist-packages/sklearn/pipeline.py\", line 394, in fit\n",
            "    self._final_estimator.fit(Xt, y, **fit_params_last_step)\n",
            "  File \"/usr/local/lib/python3.7/dist-packages/sklearn/linear_model/_logistic.py\", line 1461, in fit\n",
            "    solver = _check_solver(self.solver, self.penalty, self.dual)\n",
            "  File \"/usr/local/lib/python3.7/dist-packages/sklearn/linear_model/_logistic.py\", line 443, in _check_solver\n",
            "    % (all_penalties, penalty)\n",
            "ValueError: Logistic Regression supports only penalties in ['l1', 'l2', 'elasticnet', 'none'], got None.\n",
            "\n",
            "  warnings.warn(some_fits_failed_message, FitFailedWarning)\n",
            "/usr/local/lib/python3.7/dist-packages/sklearn/model_selection/_search.py:972: UserWarning: One or more of the test scores are non-finite: [0.84504932 0.8450569         nan        nan 0.84545959 0.84547476\n",
            "        nan        nan 0.84504837 0.84507686        nan        nan\n",
            " 0.8454388  0.84545396        nan        nan 0.84494143 0.84480665\n",
            "        nan        nan 0.84526167 0.845235          nan        nan\n",
            " 0.84461966 0.84426348        nan        nan 0.84402302 0.8444581\n",
            "        nan        nan 0.83373407 0.84255244        nan        nan\n",
            " 0.83007195 0.84216145        nan        nan 0.5        0.83868344\n",
            "        nan        nan 0.5        0.83827578        nan        nan]\n",
            "  category=UserWarning,\n"
          ]
        },
        {
          "output_type": "stream",
          "name": "stdout",
          "text": [
            "Best ROC-AUC metric: 0.8455\n",
            "Best estimator's parameters: {'logisticregression__C': 100, 'logisticregression__class_weight': None, 'logisticregression__penalty': 'l2'}\n"
          ]
        }
      ]
    },
    {
      "cell_type": "markdown",
      "metadata": {
        "id": "BlTeVy7fEEZR"
      },
      "source": [
        "## Применение градиентного бустинга\n",
        "1) Разделение выборки на train/valid. Использование catboost cо стандартными параметрами.\n",
        "\n",
        "2) Тестирование разных занчений параметров количества деревьев и learning_rate'а по метрике ROC-AUC комбинацию.\n",
        "\n",
        "---"
      ]
    },
    {
      "cell_type": "markdown",
      "source": [
        "*1) Разделение выборки на train/valid. Использование catboost cо стандартными параметрами.*"
      ],
      "metadata": {
        "id": "w4D4rbi1AAnp"
      }
    },
    {
      "cell_type": "code",
      "source": [
        "import xgboost\n",
        "\n",
        "boosting_model = xgboost.XGBClassifier(n_estimators=500)\n",
        "\n",
        "boosting_model.fit(X_train_spl, y_train_spl)\n",
        "\n",
        "y_train_predicted_boost = boosting_model.predict_proba(X_train_spl)[:, 1]\n",
        "y_test_predicted_boost = boosting_model.predict_proba(X_test_spl)[:, 1]"
      ],
      "metadata": {
        "id": "fC-c9QMNfxSO"
      },
      "execution_count": null,
      "outputs": []
    },
    {
      "cell_type": "code",
      "source": [
        "train_auc_boost = roc_auc_score(y_train_spl, y_train_predicted_boost)\n",
        "test_auc_boost = roc_auc_score(y_test_spl, y_test_predicted_boost)\n",
        "\n",
        "plt.figure(figsize=(10,7))\n",
        "plt.plot(*roc_curve(y_train_spl, y_train_predicted_boost)[:2], label='train AUC={:.4f}'.format(train_auc_boost))\n",
        "plt.plot(*roc_curve(y_test_spl, y_test_predicted_boost)[:2], label='test AUC={:.4f}'.format(test_auc_boost))\n",
        "legend_box = plt.legend(fontsize='large', framealpha=1).get_frame()\n",
        "legend_box.set_facecolor(\"white\")\n",
        "legend_box.set_edgecolor(\"black\")\n",
        "plt.plot(np.linspace(0,1,100), np.linspace(0,1,100))\n",
        "plt.show()"
      ],
      "metadata": {
        "colab": {
          "base_uri": "https://localhost:8080/",
          "height": 428
        },
        "id": "JxksoI_JfDma",
        "outputId": "42e415fe-e152-4583-8f9d-303371acdd13"
      },
      "execution_count": null,
      "outputs": [
        {
          "output_type": "display_data",
          "data": {
            "text/plain": [
              "<Figure size 720x504 with 1 Axes>"
            ],
            "image/png": "[encoded data removed]"
          },
          "metadata": {
            "needs_background": "light"
          }
        }
      ]
    },
    {
      "cell_type": "code",
      "source": [
        "# for colab\n",
        "!pip install catboost\n",
        "!pip install scikit-learn\n",
        "!pip install ipywidgets\n",
        "!jupyter nbextension enable --py widgetsnbextension"
      ],
      "metadata": {
        "id": "CPV7YL90Ra6W"
      },
      "execution_count": null,
      "outputs": []
    },
    {
      "cell_type": "code",
      "source": [
        "import catboost\n",
        "\n",
        "X_train_orig, X_test_orig, y_train_orig, y_test_orig = train_test_split(train.iloc[:,:-1], y_train,\n",
        "                                                       train_size=0.8,\n",
        "                                                       random_state=42)\n",
        "\n",
        "catb_model = catboost.CatBoostClassifier(n_estimators=200, l2_leaf_reg=4.25,\n",
        "                                                     learning_rate=0.05, max_depth=3, cat_features=cat_cols)\n",
        "\n",
        "catb_model.fit(X_train_orig, y_train_orig, eval_set=(X_test_orig, y_test_orig), cat_features=cat_cols)\n",
        "\n",
        "y_train_predicted_catb = catb_model.predict_proba(X_train_orig)[:, 1]\n",
        "y_test_predicted_catb = catb_model.predict_proba(X_test_orig)[:, 1]"
      ],
      "metadata": {
        "colab": {
          "base_uri": "https://localhost:8080/"
        },
        "id": "MATitHt2hrmx",
        "outputId": "6a707e86-d3e9-4305-c528-9ee679a6727d"
      },
      "execution_count": null,
      "outputs": [
        {
          "output_type": "stream",
          "name": "stdout",
          "text": [
            "0:\tlearn: 0.6671115\ttest: 0.6678846\tbest: 0.6678846 (0)\ttotal: 57.1ms\tremaining: 11.4s\n",
            "1:\tlearn: 0.6456965\ttest: 0.6481321\tbest: 0.6481321 (1)\ttotal: 65ms\tremaining: 6.44s\n",
            "2:\tlearn: 0.6255539\ttest: 0.6290517\tbest: 0.6290517 (2)\ttotal: 72.4ms\tremaining: 4.75s\n",
            "3:\tlearn: 0.6069274\ttest: 0.6110028\tbest: 0.6110028 (3)\ttotal: 80.7ms\tremaining: 3.95s\n",
            "4:\tlearn: 0.5908031\ttest: 0.5951308\tbest: 0.5951308 (4)\ttotal: 88.4ms\tremaining: 3.45s\n",
            "5:\tlearn: 0.5708151\ttest: 0.5762299\tbest: 0.5762299 (5)\ttotal: 96.3ms\tremaining: 3.11s\n",
            "6:\tlearn: 0.5546870\ttest: 0.5612848\tbest: 0.5612848 (6)\ttotal: 103ms\tremaining: 2.85s\n",
            "7:\tlearn: 0.5405052\ttest: 0.5479926\tbest: 0.5479926 (7)\ttotal: 112ms\tremaining: 2.69s\n",
            "8:\tlearn: 0.5276523\ttest: 0.5360474\tbest: 0.5360474 (8)\ttotal: 120ms\tremaining: 2.54s\n",
            "9:\tlearn: 0.5164357\ttest: 0.5257387\tbest: 0.5257387 (9)\ttotal: 126ms\tremaining: 2.39s\n",
            "10:\tlearn: 0.5062773\ttest: 0.5163107\tbest: 0.5163107 (10)\ttotal: 132ms\tremaining: 2.26s\n",
            "11:\tlearn: 0.4972789\ttest: 0.5080934\tbest: 0.5080934 (11)\ttotal: 138ms\tremaining: 2.17s\n",
            "12:\tlearn: 0.4894944\ttest: 0.5005095\tbest: 0.5005095 (12)\ttotal: 145ms\tremaining: 2.08s\n",
            "13:\tlearn: 0.4822618\ttest: 0.4943906\tbest: 0.4943906 (13)\ttotal: 153ms\tremaining: 2.03s\n",
            "14:\tlearn: 0.4762826\ttest: 0.4887016\tbest: 0.4887016 (14)\ttotal: 161ms\tremaining: 1.99s\n",
            "15:\tlearn: 0.4702315\ttest: 0.4832633\tbest: 0.4832633 (15)\ttotal: 168ms\tremaining: 1.93s\n",
            "16:\tlearn: 0.4653468\ttest: 0.4789805\tbest: 0.4789805 (16)\ttotal: 174ms\tremaining: 1.87s\n",
            "17:\tlearn: 0.4603281\ttest: 0.4742040\tbest: 0.4742040 (17)\ttotal: 181ms\tremaining: 1.83s\n",
            "18:\tlearn: 0.4564796\ttest: 0.4708359\tbest: 0.4708359 (18)\ttotal: 188ms\tremaining: 1.79s\n",
            "19:\tlearn: 0.4523988\ttest: 0.4680545\tbest: 0.4680545 (19)\ttotal: 195ms\tremaining: 1.75s\n",
            "20:\tlearn: 0.4492987\ttest: 0.4655993\tbest: 0.4655993 (20)\ttotal: 202ms\tremaining: 1.72s\n",
            "21:\tlearn: 0.4463137\ttest: 0.4633898\tbest: 0.4633898 (21)\ttotal: 208ms\tremaining: 1.68s\n",
            "22:\tlearn: 0.4432799\ttest: 0.4610180\tbest: 0.4610180 (22)\ttotal: 213ms\tremaining: 1.64s\n",
            "23:\tlearn: 0.4417704\ttest: 0.4598565\tbest: 0.4598565 (23)\ttotal: 219ms\tremaining: 1.61s\n",
            "24:\tlearn: 0.4392532\ttest: 0.4577391\tbest: 0.4577391 (24)\ttotal: 226ms\tremaining: 1.58s\n",
            "25:\tlearn: 0.4367873\ttest: 0.4553780\tbest: 0.4553780 (25)\ttotal: 233ms\tremaining: 1.56s\n",
            "26:\tlearn: 0.4347058\ttest: 0.4534447\tbest: 0.4534447 (26)\ttotal: 241ms\tremaining: 1.54s\n",
            "27:\tlearn: 0.4329189\ttest: 0.4524373\tbest: 0.4524373 (27)\ttotal: 250ms\tremaining: 1.53s\n",
            "28:\tlearn: 0.4310152\ttest: 0.4507908\tbest: 0.4507908 (28)\ttotal: 260ms\tremaining: 1.53s\n",
            "29:\tlearn: 0.4292250\ttest: 0.4491526\tbest: 0.4491526 (29)\ttotal: 267ms\tremaining: 1.51s\n",
            "30:\tlearn: 0.4280138\ttest: 0.4484019\tbest: 0.4484019 (30)\ttotal: 274ms\tremaining: 1.49s\n",
            "31:\tlearn: 0.4265424\ttest: 0.4474289\tbest: 0.4474289 (31)\ttotal: 280ms\tremaining: 1.47s\n",
            "32:\tlearn: 0.4251704\ttest: 0.4465794\tbest: 0.4465794 (32)\ttotal: 286ms\tremaining: 1.45s\n",
            "33:\tlearn: 0.4241837\ttest: 0.4462007\tbest: 0.4462007 (33)\ttotal: 293ms\tremaining: 1.43s\n",
            "34:\tlearn: 0.4230756\ttest: 0.4454903\tbest: 0.4454903 (34)\ttotal: 300ms\tremaining: 1.41s\n",
            "35:\tlearn: 0.4221093\ttest: 0.4452603\tbest: 0.4452603 (35)\ttotal: 307ms\tremaining: 1.4s\n",
            "36:\tlearn: 0.4209917\ttest: 0.4445942\tbest: 0.4445942 (36)\ttotal: 315ms\tremaining: 1.39s\n",
            "37:\tlearn: 0.4198689\ttest: 0.4436680\tbest: 0.4436680 (37)\ttotal: 322ms\tremaining: 1.37s\n",
            "38:\tlearn: 0.4192249\ttest: 0.4432227\tbest: 0.4432227 (38)\ttotal: 329ms\tremaining: 1.36s\n",
            "39:\tlearn: 0.4183839\ttest: 0.4425096\tbest: 0.4425096 (39)\ttotal: 335ms\tremaining: 1.34s\n",
            "40:\tlearn: 0.4176597\ttest: 0.4417926\tbest: 0.4417926 (40)\ttotal: 342ms\tremaining: 1.33s\n",
            "41:\tlearn: 0.4165655\ttest: 0.4409540\tbest: 0.4409540 (41)\ttotal: 350ms\tremaining: 1.32s\n",
            "42:\tlearn: 0.4158380\ttest: 0.4404670\tbest: 0.4404670 (42)\ttotal: 357ms\tremaining: 1.3s\n",
            "43:\tlearn: 0.4152156\ttest: 0.4398627\tbest: 0.4398627 (43)\ttotal: 364ms\tremaining: 1.29s\n",
            "44:\tlearn: 0.4147419\ttest: 0.4394624\tbest: 0.4394624 (44)\ttotal: 375ms\tremaining: 1.29s\n",
            "45:\tlearn: 0.4142253\ttest: 0.4394919\tbest: 0.4394624 (44)\ttotal: 389ms\tremaining: 1.3s\n",
            "46:\tlearn: 0.4136543\ttest: 0.4390634\tbest: 0.4390634 (46)\ttotal: 396ms\tremaining: 1.29s\n",
            "47:\tlearn: 0.4131324\ttest: 0.4386908\tbest: 0.4386908 (47)\ttotal: 404ms\tremaining: 1.28s\n",
            "48:\tlearn: 0.4126434\ttest: 0.4385753\tbest: 0.4385753 (48)\ttotal: 410ms\tremaining: 1.26s\n",
            "49:\tlearn: 0.4122310\ttest: 0.4382965\tbest: 0.4382965 (49)\ttotal: 416ms\tremaining: 1.25s\n",
            "50:\tlearn: 0.4120446\ttest: 0.4383459\tbest: 0.4382965 (49)\ttotal: 421ms\tremaining: 1.23s\n",
            "51:\tlearn: 0.4114993\ttest: 0.4381466\tbest: 0.4381466 (51)\ttotal: 428ms\tremaining: 1.22s\n",
            "52:\tlearn: 0.4110294\ttest: 0.4380000\tbest: 0.4380000 (52)\ttotal: 435ms\tremaining: 1.21s\n",
            "53:\tlearn: 0.4107598\ttest: 0.4379139\tbest: 0.4379139 (53)\ttotal: 442ms\tremaining: 1.2s\n",
            "54:\tlearn: 0.4098113\ttest: 0.4374602\tbest: 0.4374602 (54)\ttotal: 451ms\tremaining: 1.19s\n",
            "55:\tlearn: 0.4093620\ttest: 0.4372101\tbest: 0.4372101 (55)\ttotal: 460ms\tremaining: 1.18s\n",
            "56:\tlearn: 0.4089829\ttest: 0.4370646\tbest: 0.4370646 (56)\ttotal: 468ms\tremaining: 1.18s\n",
            "57:\tlearn: 0.4087465\ttest: 0.4369333\tbest: 0.4369333 (57)\ttotal: 475ms\tremaining: 1.16s\n",
            "58:\tlearn: 0.4083860\ttest: 0.4365314\tbest: 0.4365314 (58)\ttotal: 482ms\tremaining: 1.15s\n",
            "59:\tlearn: 0.4076738\ttest: 0.4361278\tbest: 0.4361278 (59)\ttotal: 489ms\tremaining: 1.14s\n",
            "60:\tlearn: 0.4074987\ttest: 0.4360529\tbest: 0.4360529 (60)\ttotal: 495ms\tremaining: 1.13s\n",
            "61:\tlearn: 0.4072473\ttest: 0.4358007\tbest: 0.4358007 (61)\ttotal: 502ms\tremaining: 1.12s\n",
            "62:\tlearn: 0.4067643\ttest: 0.4356647\tbest: 0.4356647 (62)\ttotal: 509ms\tremaining: 1.11s\n",
            "63:\tlearn: 0.4065088\ttest: 0.4354691\tbest: 0.4354691 (63)\ttotal: 517ms\tremaining: 1.1s\n",
            "64:\tlearn: 0.4060152\ttest: 0.4351189\tbest: 0.4351189 (64)\ttotal: 524ms\tremaining: 1.09s\n",
            "65:\tlearn: 0.4055346\ttest: 0.4350019\tbest: 0.4350019 (65)\ttotal: 530ms\tremaining: 1.08s\n",
            "66:\tlearn: 0.4049859\ttest: 0.4345040\tbest: 0.4345040 (66)\ttotal: 537ms\tremaining: 1.07s\n",
            "67:\tlearn: 0.4045898\ttest: 0.4343329\tbest: 0.4343329 (67)\ttotal: 543ms\tremaining: 1.05s\n",
            "68:\tlearn: 0.4042575\ttest: 0.4341124\tbest: 0.4341124 (68)\ttotal: 551ms\tremaining: 1.05s\n",
            "69:\tlearn: 0.4040728\ttest: 0.4340039\tbest: 0.4340039 (69)\ttotal: 558ms\tremaining: 1.04s\n",
            "70:\tlearn: 0.4038565\ttest: 0.4338709\tbest: 0.4338709 (70)\ttotal: 566ms\tremaining: 1.03s\n",
            "71:\tlearn: 0.4037291\ttest: 0.4338756\tbest: 0.4338709 (70)\ttotal: 573ms\tremaining: 1.02s\n",
            "72:\tlearn: 0.4035930\ttest: 0.4338518\tbest: 0.4338518 (72)\ttotal: 578ms\tremaining: 1.01s\n",
            "73:\tlearn: 0.4033203\ttest: 0.4338912\tbest: 0.4338518 (72)\ttotal: 585ms\tremaining: 997ms\n",
            "74:\tlearn: 0.4030026\ttest: 0.4336954\tbest: 0.4336954 (74)\ttotal: 593ms\tremaining: 989ms\n",
            "75:\tlearn: 0.4027774\ttest: 0.4335073\tbest: 0.4335073 (75)\ttotal: 601ms\tremaining: 980ms\n",
            "76:\tlearn: 0.4026865\ttest: 0.4334567\tbest: 0.4334567 (76)\ttotal: 609ms\tremaining: 972ms\n",
            "77:\tlearn: 0.4025682\ttest: 0.4334242\tbest: 0.4334242 (77)\ttotal: 615ms\tremaining: 962ms\n",
            "78:\tlearn: 0.4023974\ttest: 0.4333112\tbest: 0.4333112 (78)\ttotal: 622ms\tremaining: 953ms\n",
            "79:\tlearn: 0.4022781\ttest: 0.4332145\tbest: 0.4332145 (79)\ttotal: 630ms\tremaining: 945ms\n",
            "80:\tlearn: 0.4020300\ttest: 0.4332894\tbest: 0.4332145 (79)\ttotal: 637ms\tremaining: 936ms\n",
            "81:\tlearn: 0.4019030\ttest: 0.4332815\tbest: 0.4332145 (79)\ttotal: 644ms\tremaining: 927ms\n",
            "82:\tlearn: 0.4017055\ttest: 0.4332253\tbest: 0.4332145 (79)\ttotal: 656ms\tremaining: 925ms\n",
            "83:\tlearn: 0.4015483\ttest: 0.4331873\tbest: 0.4331873 (83)\ttotal: 664ms\tremaining: 917ms\n",
            "84:\tlearn: 0.4013095\ttest: 0.4330615\tbest: 0.4330615 (84)\ttotal: 670ms\tremaining: 907ms\n",
            "85:\tlearn: 0.4012446\ttest: 0.4330298\tbest: 0.4330298 (85)\ttotal: 679ms\tremaining: 900ms\n",
            "86:\tlearn: 0.4010468\ttest: 0.4329905\tbest: 0.4329905 (86)\ttotal: 686ms\tremaining: 891ms\n",
            "87:\tlearn: 0.4009089\ttest: 0.4330466\tbest: 0.4329905 (86)\ttotal: 693ms\tremaining: 881ms\n",
            "88:\tlearn: 0.4006450\ttest: 0.4330266\tbest: 0.4329905 (86)\ttotal: 699ms\tremaining: 872ms\n",
            "89:\tlearn: 0.4005814\ttest: 0.4330272\tbest: 0.4329905 (86)\ttotal: 706ms\tremaining: 863ms\n",
            "90:\tlearn: 0.4004037\ttest: 0.4330792\tbest: 0.4329905 (86)\ttotal: 714ms\tremaining: 856ms\n",
            "91:\tlearn: 0.4003210\ttest: 0.4331039\tbest: 0.4329905 (86)\ttotal: 722ms\tremaining: 847ms\n",
            "92:\tlearn: 0.4001168\ttest: 0.4330516\tbest: 0.4329905 (86)\ttotal: 729ms\tremaining: 839ms\n",
            "93:\tlearn: 0.4000539\ttest: 0.4330032\tbest: 0.4329905 (86)\ttotal: 735ms\tremaining: 829ms\n",
            "94:\tlearn: 0.4000011\ttest: 0.4330411\tbest: 0.4329905 (86)\ttotal: 742ms\tremaining: 820ms\n",
            "95:\tlearn: 0.3996907\ttest: 0.4329471\tbest: 0.4329471 (95)\ttotal: 750ms\tremaining: 812ms\n",
            "96:\tlearn: 0.3994330\ttest: 0.4329993\tbest: 0.4329471 (95)\ttotal: 757ms\tremaining: 804ms\n",
            "97:\tlearn: 0.3993325\ttest: 0.4329670\tbest: 0.4329471 (95)\ttotal: 765ms\tremaining: 796ms\n",
            "98:\tlearn: 0.3990946\ttest: 0.4329722\tbest: 0.4329471 (95)\ttotal: 772ms\tremaining: 787ms\n",
            "99:\tlearn: 0.3989143\ttest: 0.4327493\tbest: 0.4327493 (99)\ttotal: 782ms\tremaining: 782ms\n",
            "100:\tlearn: 0.3988031\ttest: 0.4326033\tbest: 0.4326033 (100)\ttotal: 789ms\tremaining: 774ms\n",
            "101:\tlearn: 0.3986939\ttest: 0.4324250\tbest: 0.4324250 (101)\ttotal: 796ms\tremaining: 765ms\n",
            "102:\tlearn: 0.3984893\ttest: 0.4323075\tbest: 0.4323075 (102)\ttotal: 804ms\tremaining: 757ms\n",
            "103:\tlearn: 0.3983736\ttest: 0.4322634\tbest: 0.4322634 (103)\ttotal: 811ms\tremaining: 749ms\n",
            "104:\tlearn: 0.3982958\ttest: 0.4322348\tbest: 0.4322348 (104)\ttotal: 818ms\tremaining: 740ms\n",
            "105:\tlearn: 0.3980802\ttest: 0.4321532\tbest: 0.4321532 (105)\ttotal: 825ms\tremaining: 732ms\n",
            "106:\tlearn: 0.3980326\ttest: 0.4321609\tbest: 0.4321532 (105)\ttotal: 832ms\tremaining: 723ms\n",
            "107:\tlearn: 0.3979268\ttest: 0.4319247\tbest: 0.4319247 (107)\ttotal: 838ms\tremaining: 714ms\n",
            "108:\tlearn: 0.3977616\ttest: 0.4318069\tbest: 0.4318069 (108)\ttotal: 845ms\tremaining: 706ms\n",
            "109:\tlearn: 0.3976884\ttest: 0.4317618\tbest: 0.4317618 (109)\ttotal: 857ms\tremaining: 701ms\n",
            "110:\tlearn: 0.3973766\ttest: 0.4316604\tbest: 0.4316604 (110)\ttotal: 864ms\tremaining: 692ms\n",
            "111:\tlearn: 0.3972753\ttest: 0.4315814\tbest: 0.4315814 (111)\ttotal: 871ms\tremaining: 684ms\n",
            "112:\tlearn: 0.3972169\ttest: 0.4315654\tbest: 0.4315654 (112)\ttotal: 877ms\tremaining: 675ms\n",
            "113:\tlearn: 0.3970388\ttest: 0.4314946\tbest: 0.4314946 (113)\ttotal: 883ms\tremaining: 666ms\n",
            "114:\tlearn: 0.3969654\ttest: 0.4314745\tbest: 0.4314745 (114)\ttotal: 889ms\tremaining: 657ms\n",
            "115:\tlearn: 0.3969585\ttest: 0.4314710\tbest: 0.4314710 (115)\ttotal: 896ms\tremaining: 649ms\n",
            "116:\tlearn: 0.3969104\ttest: 0.4314767\tbest: 0.4314710 (115)\ttotal: 902ms\tremaining: 640ms\n",
            "117:\tlearn: 0.3966785\ttest: 0.4314005\tbest: 0.4314005 (117)\ttotal: 910ms\tremaining: 632ms\n",
            "118:\tlearn: 0.3965691\ttest: 0.4313527\tbest: 0.4313527 (118)\ttotal: 916ms\tremaining: 624ms\n",
            "119:\tlearn: 0.3965482\ttest: 0.4313526\tbest: 0.4313526 (119)\ttotal: 923ms\tremaining: 616ms\n",
            "120:\tlearn: 0.3964566\ttest: 0.4313868\tbest: 0.4313526 (119)\ttotal: 930ms\tremaining: 607ms\n",
            "121:\tlearn: 0.3963004\ttest: 0.4312942\tbest: 0.4312942 (121)\ttotal: 937ms\tremaining: 599ms\n",
            "122:\tlearn: 0.3961508\ttest: 0.4311422\tbest: 0.4311422 (122)\ttotal: 945ms\tremaining: 591ms\n",
            "123:\tlearn: 0.3961074\ttest: 0.4310989\tbest: 0.4310989 (123)\ttotal: 951ms\tremaining: 583ms\n",
            "124:\tlearn: 0.3960363\ttest: 0.4311757\tbest: 0.4310989 (123)\ttotal: 958ms\tremaining: 575ms\n",
            "125:\tlearn: 0.3959548\ttest: 0.4311251\tbest: 0.4310989 (123)\ttotal: 965ms\tremaining: 567ms\n",
            "126:\tlearn: 0.3958753\ttest: 0.4311347\tbest: 0.4310989 (123)\ttotal: 973ms\tremaining: 559ms\n",
            "127:\tlearn: 0.3957680\ttest: 0.4310422\tbest: 0.4310422 (127)\ttotal: 979ms\tremaining: 551ms\n",
            "128:\tlearn: 0.3957434\ttest: 0.4310789\tbest: 0.4310422 (127)\ttotal: 986ms\tremaining: 542ms\n",
            "129:\tlearn: 0.3956706\ttest: 0.4310143\tbest: 0.4310143 (129)\ttotal: 992ms\tremaining: 534ms\n",
            "130:\tlearn: 0.3955829\ttest: 0.4310126\tbest: 0.4310126 (130)\ttotal: 999ms\tremaining: 526ms\n",
            "131:\tlearn: 0.3955813\ttest: 0.4310125\tbest: 0.4310125 (131)\ttotal: 1s\tremaining: 518ms\n",
            "132:\tlearn: 0.3955176\ttest: 0.4309945\tbest: 0.4309945 (132)\ttotal: 1.01s\tremaining: 510ms\n",
            "133:\tlearn: 0.3955011\ttest: 0.4309978\tbest: 0.4309945 (132)\ttotal: 1.02s\tremaining: 502ms\n",
            "134:\tlearn: 0.3954162\ttest: 0.4309835\tbest: 0.4309835 (134)\ttotal: 1.02s\tremaining: 494ms\n",
            "135:\tlearn: 0.3952138\ttest: 0.4310547\tbest: 0.4309835 (134)\ttotal: 1.03s\tremaining: 486ms\n",
            "136:\tlearn: 0.3952089\ttest: 0.4310326\tbest: 0.4309835 (134)\ttotal: 1.04s\tremaining: 477ms\n",
            "137:\tlearn: 0.3951643\ttest: 0.4310269\tbest: 0.4309835 (134)\ttotal: 1.04s\tremaining: 470ms\n",
            "138:\tlearn: 0.3949983\ttest: 0.4309549\tbest: 0.4309549 (138)\ttotal: 1.06s\tremaining: 464ms\n",
            "139:\tlearn: 0.3948000\ttest: 0.4307964\tbest: 0.4307964 (139)\ttotal: 1.06s\tremaining: 456ms\n",
            "140:\tlearn: 0.3947117\ttest: 0.4307828\tbest: 0.4307828 (140)\ttotal: 1.07s\tremaining: 449ms\n",
            "141:\tlearn: 0.3945402\ttest: 0.4306209\tbest: 0.4306209 (141)\ttotal: 1.08s\tremaining: 442ms\n",
            "142:\tlearn: 0.3944618\ttest: 0.4305376\tbest: 0.4305376 (142)\ttotal: 1.09s\tremaining: 434ms\n",
            "143:\tlearn: 0.3944587\ttest: 0.4305374\tbest: 0.4305374 (143)\ttotal: 1.09s\tremaining: 426ms\n",
            "144:\tlearn: 0.3944056\ttest: 0.4306495\tbest: 0.4305374 (143)\ttotal: 1.1s\tremaining: 418ms\n",
            "145:\tlearn: 0.3943635\ttest: 0.4306465\tbest: 0.4305374 (143)\ttotal: 1.11s\tremaining: 411ms\n",
            "146:\tlearn: 0.3943499\ttest: 0.4306895\tbest: 0.4305374 (143)\ttotal: 1.12s\tremaining: 403ms\n",
            "147:\tlearn: 0.3943346\ttest: 0.4306887\tbest: 0.4305374 (143)\ttotal: 1.12s\tremaining: 395ms\n",
            "148:\tlearn: 0.3942727\ttest: 0.4306964\tbest: 0.4305374 (143)\ttotal: 1.13s\tremaining: 387ms\n",
            "149:\tlearn: 0.3941585\ttest: 0.4307507\tbest: 0.4305374 (143)\ttotal: 1.14s\tremaining: 379ms\n",
            "150:\tlearn: 0.3941253\ttest: 0.4307243\tbest: 0.4305374 (143)\ttotal: 1.14s\tremaining: 371ms\n",
            "151:\tlearn: 0.3941082\ttest: 0.4307337\tbest: 0.4305374 (143)\ttotal: 1.15s\tremaining: 364ms\n",
            "152:\tlearn: 0.3940180\ttest: 0.4307331\tbest: 0.4305374 (143)\ttotal: 1.16s\tremaining: 356ms\n",
            "153:\tlearn: 0.3939278\ttest: 0.4306362\tbest: 0.4305374 (143)\ttotal: 1.16s\tremaining: 348ms\n",
            "154:\tlearn: 0.3937261\ttest: 0.4304681\tbest: 0.4304681 (154)\ttotal: 1.17s\tremaining: 340ms\n",
            "155:\tlearn: 0.3937165\ttest: 0.4304681\tbest: 0.4304681 (155)\ttotal: 1.18s\tremaining: 332ms\n",
            "156:\tlearn: 0.3936655\ttest: 0.4304639\tbest: 0.4304639 (156)\ttotal: 1.19s\tremaining: 325ms\n",
            "157:\tlearn: 0.3935366\ttest: 0.4303657\tbest: 0.4303657 (157)\ttotal: 1.19s\tremaining: 318ms\n",
            "158:\tlearn: 0.3935339\ttest: 0.4303649\tbest: 0.4303649 (158)\ttotal: 1.2s\tremaining: 310ms\n",
            "159:\tlearn: 0.3934782\ttest: 0.4304573\tbest: 0.4303649 (158)\ttotal: 1.21s\tremaining: 302ms\n",
            "160:\tlearn: 0.3934369\ttest: 0.4304570\tbest: 0.4303649 (158)\ttotal: 1.22s\tremaining: 294ms\n",
            "161:\tlearn: 0.3932640\ttest: 0.4303814\tbest: 0.4303649 (158)\ttotal: 1.22s\tremaining: 287ms\n",
            "162:\tlearn: 0.3932215\ttest: 0.4303640\tbest: 0.4303640 (162)\ttotal: 1.23s\tremaining: 279ms\n",
            "163:\tlearn: 0.3932058\ttest: 0.4303600\tbest: 0.4303600 (163)\ttotal: 1.24s\tremaining: 272ms\n",
            "164:\tlearn: 0.3930560\ttest: 0.4304408\tbest: 0.4303600 (163)\ttotal: 1.25s\tremaining: 264ms\n",
            "165:\tlearn: 0.3930142\ttest: 0.4304306\tbest: 0.4303600 (163)\ttotal: 1.25s\tremaining: 257ms\n",
            "166:\tlearn: 0.3930107\ttest: 0.4304305\tbest: 0.4303600 (163)\ttotal: 1.26s\tremaining: 250ms\n",
            "167:\tlearn: 0.3929919\ttest: 0.4303810\tbest: 0.4303600 (163)\ttotal: 1.27s\tremaining: 242ms\n",
            "168:\tlearn: 0.3929663\ttest: 0.4303803\tbest: 0.4303600 (163)\ttotal: 1.28s\tremaining: 234ms\n",
            "169:\tlearn: 0.3928338\ttest: 0.4303797\tbest: 0.4303600 (163)\ttotal: 1.28s\tremaining: 227ms\n",
            "170:\tlearn: 0.3928301\ttest: 0.4303796\tbest: 0.4303600 (163)\ttotal: 1.29s\tremaining: 219ms\n",
            "171:\tlearn: 0.3927119\ttest: 0.4303638\tbest: 0.4303600 (163)\ttotal: 1.3s\tremaining: 212ms\n",
            "172:\tlearn: 0.3926765\ttest: 0.4303629\tbest: 0.4303600 (163)\ttotal: 1.31s\tremaining: 204ms\n",
            "173:\tlearn: 0.3925257\ttest: 0.4302474\tbest: 0.4302474 (173)\ttotal: 1.31s\tremaining: 196ms\n",
            "174:\tlearn: 0.3925086\ttest: 0.4302474\tbest: 0.4302474 (174)\ttotal: 1.32s\tremaining: 189ms\n",
            "175:\tlearn: 0.3924928\ttest: 0.4302535\tbest: 0.4302474 (174)\ttotal: 1.33s\tremaining: 181ms\n",
            "176:\tlearn: 0.3923543\ttest: 0.4303627\tbest: 0.4302474 (174)\ttotal: 1.33s\tremaining: 173ms\n",
            "177:\tlearn: 0.3923360\ttest: 0.4303626\tbest: 0.4302474 (174)\ttotal: 1.34s\tremaining: 166ms\n",
            "178:\tlearn: 0.3922021\ttest: 0.4303682\tbest: 0.4302474 (174)\ttotal: 1.35s\tremaining: 159ms\n",
            "179:\tlearn: 0.3920123\ttest: 0.4302686\tbest: 0.4302474 (174)\ttotal: 1.37s\tremaining: 152ms\n",
            "180:\tlearn: 0.3919995\ttest: 0.4302592\tbest: 0.4302474 (174)\ttotal: 1.38s\tremaining: 144ms\n",
            "181:\tlearn: 0.3918369\ttest: 0.4300969\tbest: 0.4300969 (181)\ttotal: 1.38s\tremaining: 137ms\n",
            "182:\tlearn: 0.3916465\ttest: 0.4301132\tbest: 0.4300969 (181)\ttotal: 1.39s\tremaining: 129ms\n",
            "183:\tlearn: 0.3916115\ttest: 0.4301401\tbest: 0.4300969 (181)\ttotal: 1.4s\tremaining: 122ms\n",
            "184:\tlearn: 0.3915092\ttest: 0.4301399\tbest: 0.4300969 (181)\ttotal: 1.41s\tremaining: 114ms\n",
            "185:\tlearn: 0.3915022\ttest: 0.4301400\tbest: 0.4300969 (181)\ttotal: 1.41s\tremaining: 106ms\n",
            "186:\tlearn: 0.3914841\ttest: 0.4301400\tbest: 0.4300969 (181)\ttotal: 1.42s\tremaining: 98.8ms\n",
            "187:\tlearn: 0.3914580\ttest: 0.4301398\tbest: 0.4300969 (181)\ttotal: 1.43s\tremaining: 91.2ms\n",
            "188:\tlearn: 0.3913557\ttest: 0.4302135\tbest: 0.4300969 (181)\ttotal: 1.44s\tremaining: 83.5ms\n",
            "189:\tlearn: 0.3913363\ttest: 0.4302134\tbest: 0.4300969 (181)\ttotal: 1.44s\tremaining: 76ms\n",
            "190:\tlearn: 0.3913265\ttest: 0.4302134\tbest: 0.4300969 (181)\ttotal: 1.45s\tremaining: 68.3ms\n",
            "191:\tlearn: 0.3911401\ttest: 0.4302918\tbest: 0.4300969 (181)\ttotal: 1.46s\tremaining: 60.9ms\n",
            "192:\tlearn: 0.3909628\ttest: 0.4304021\tbest: 0.4300969 (181)\ttotal: 1.47s\tremaining: 53.3ms\n",
            "193:\tlearn: 0.3907599\ttest: 0.4303684\tbest: 0.4300969 (181)\ttotal: 1.48s\tremaining: 45.6ms\n",
            "194:\tlearn: 0.3905898\ttest: 0.4304493\tbest: 0.4300969 (181)\ttotal: 1.48s\tremaining: 38ms\n",
            "195:\tlearn: 0.3904020\ttest: 0.4304544\tbest: 0.4300969 (181)\ttotal: 1.49s\tremaining: 30.4ms\n",
            "196:\tlearn: 0.3902837\ttest: 0.4303662\tbest: 0.4300969 (181)\ttotal: 1.5s\tremaining: 22.8ms\n",
            "197:\tlearn: 0.3902818\ttest: 0.4303660\tbest: 0.4300969 (181)\ttotal: 1.5s\tremaining: 15.2ms\n",
            "198:\tlearn: 0.3902535\ttest: 0.4303559\tbest: 0.4300969 (181)\ttotal: 1.51s\tremaining: 7.6ms\n",
            "199:\tlearn: 0.3901005\ttest: 0.4304459\tbest: 0.4300969 (181)\ttotal: 1.52s\tremaining: 0us\n",
            "\n",
            "bestTest = 0.430096885\n",
            "bestIteration = 181\n",
            "\n",
            "Shrink model to first 182 iterations.\n"
          ]
        }
      ]
    },
    {
      "cell_type": "code",
      "source": [
        "train_auc_catb = roc_auc_score(y_train_orig, y_train_predicted_catb)\n",
        "test_auc_catb = roc_auc_score(y_test_orig, y_test_predicted_catb)\n",
        "\n",
        "plt.figure(figsize=(10,7))\n",
        "plt.plot(*roc_curve(y_train_orig, y_train_predicted_catb)[:2], label='train AUC={:.4f}'.format(train_auc_catb))\n",
        "plt.plot(*roc_curve(y_test_orig, y_test_predicted_catb)[:2], label='test AUC={:.4f}'.format(test_auc_catb))\n",
        "legend_box = plt.legend(fontsize='large', framealpha=1).get_frame()\n",
        "legend_box.set_facecolor(\"white\")\n",
        "legend_box.set_edgecolor(\"black\")\n",
        "plt.plot(np.linspace(0,1,100), np.linspace(0,1,100))\n",
        "plt.show()"
      ],
      "metadata": {
        "colab": {
          "base_uri": "https://localhost:8080/",
          "height": 428
        },
        "id": "zA-t9P6GRmbU",
        "outputId": "43f4f149-f359-4935-8e25-fdb3d8cc311c"
      },
      "execution_count": null,
      "outputs": [
        {
          "output_type": "display_data",
          "data": {
            "text/plain": [
              "<Figure size 720x504 with 1 Axes>"
            ],
            "image/png": "[encoded data removed]"
          },
          "metadata": {
            "needs_background": "light"
          }
        }
      ]
    },
    {
      "cell_type": "markdown",
      "source": [
        "*2) Тестирование разных занчений параметров количества деревьев и learning_rate'а по метрике ROC-AUC комбинацию.*"
      ],
      "metadata": {
        "id": "5Eph6qjoAUDp"
      }
    },
    {
      "cell_type": "code",
      "source": [
        "X_train_Cat = train.iloc[:,:-1].reset_index(drop=True)"
      ],
      "metadata": {
        "id": "fBkqlFNqqFH4"
      },
      "execution_count": null,
      "outputs": []
    },
    {
      "cell_type": "code",
      "source": [
        "import catboost\n",
        "\n",
        "catboostCV = catboost.CatBoostClassifier(\n",
        "    cat_features=cat_cols,\n",
        "    logging_level=\"Silent\",\n",
        "    eval_metric=\"AUC:hints=skip_train~false\",\n",
        "    grow_policy=\"Lossguide\",\n",
        "    metric_period=1000,\n",
        "    random_seed=0,\n",
        ")\n",
        "\n",
        "PARAMS = {\n",
        "    \"n_estimators\": [350],  # [200, 250, 300, 350, 450, 500, 600, 800, 1000],\n",
        "    \"learning_rate\": [0.05],  # [0.02, 0.04, 0.05, 0.1, 0.2],\n",
        "    \"max_depth\": [4],  # [3, 4, 5, 7],\n",
        "    \"l2_leaf_reg\": [10],  #[0.1, 1, 10, 20]\n",
        "    \"subsample\": [0.6],  # [0.1, 0.6, 3, 6],\n",
        "    \"random_strength\": [5],\n",
        "    \"min_data_in_leaf\": [100],  # [10, 100, 200],\n",
        "}\n",
        "catboostCV.grid_search(PARAMS, X_train_Cat, y_train, cv=5, plot=True, refit=True)"
      ],
      "metadata": {
        "colab": {
          "base_uri": "https://localhost:8080/",
          "height": 364,
          "referenced_widgets": [
            "7f0082e0f5dd48788318dce0ca0caf3b"
          ]
        },
        "id": "kaJ9E6qxVjM_",
        "outputId": "0a348489-c6a7-4aef-bda1-83cca225ea1e"
      },
      "execution_count": null,
      "outputs": [
        {
          "output_type": "display_data",
          "data": {
            "text/plain": [
              "MetricVisualizer(layout=Layout(align_self='stretch', height='500px'))"
            ],
            "application/vnd.jupyter.widget-view+json": {
              "version_major": 2,
              "version_minor": 0,
              "model_id": "7f0082e0f5dd48788318dce0ca0caf3b"
            }
          },
          "metadata": {}
        },
        {
          "output_type": "stream",
          "name": "stdout",
          "text": [
            "0:\tloss: 0.8304217\tbest: 0.8304217 (0)\ttotal: 3.1s\tremaining: 0us\n",
            "Estimating final quality...\n"
          ]
        },
        {
          "output_type": "execute_result",
          "data": {
            "text/plain": [
              "{'params': {'min_data_in_leaf': 100,\n",
              "  'random_strength': 5,\n",
              "  'depth': 4,\n",
              "  'l2_leaf_reg': 10,\n",
              "  'iterations': 350,\n",
              "  'subsample': 0.6,\n",
              "  'learning_rate': 0.05},\n",
              " 'cv_results': defaultdict(list,\n",
              "             {'iterations': [0, 349],\n",
              "              'test-AUC-mean': [0.7139147520492499, 0.8452519719037612],\n",
              "              'test-AUC-std': [0.02978636167278093, 0.015591208160048541],\n",
              "              'train-AUC-mean': [0.7168272429407592, 0.8697371901005024],\n",
              "              'train-AUC-std': [0.01571427481658645, 0.003327104445536362],\n",
              "              'test-Logloss-mean': [0.6709925226226682, 0.41184011625371486],\n",
              "              'test-Logloss-std': [0.000728734118555166, 0.01640471444494244],\n",
              "              'train-Logloss-mean': [0.671045033490308, 0.3831591732797396],\n",
              "              'train-Logloss-std': [0.0005646962151300327,\n",
              "               0.0038277259973199525]})}"
            ]
          },
          "metadata": {},
          "execution_count": 43
        }
      ]
    },
    {
      "cell_type": "code",
      "source": [
        "print(\"Best score:\", end=' ')\n",
        "print(catboostCV.best_score_)\n",
        "best_params = catboostCV.get_params()\n",
        "for f in (\"cat_features\", \"logging_level\", \"eval_metric\"):\n",
        "    best_params.pop(f)\n",
        "print(\"Best params:\", end=' ')\n",
        "print(best_params)"
      ],
      "metadata": {
        "colab": {
          "base_uri": "https://localhost:8080/"
        },
        "id": "kttMAiAKV-RT",
        "outputId": "cc357cc8-5a69-4a09-bb3c-f0a870d591cf"
      },
      "execution_count": null,
      "outputs": [
        {
          "output_type": "stream",
          "name": "stdout",
          "text": [
            "Best score: {'learn': {'Logloss': 0.3846678794845523, 'AUC': 0.8681877619726679}}\n",
            "Best params: {'random_seed': 0, 'metric_period': 1000, 'grow_policy': 'Lossguide', 'min_data_in_leaf': 100, 'random_strength': 5, 'depth': 4, 'l2_leaf_reg': 10, 'iterations': 350, 'subsample': 0.6, 'learning_rate': 0.05}\n"
          ]
        }
      ]
    },
    {
      "cell_type": "markdown",
      "metadata": {
        "id": "dDMXbvNZEEZV"
      },
      "source": [
        "# Предсказания"
      ]
    },
    {
      "cell_type": "code",
      "metadata": {
        "id": "G_P4wFNaEEZW",
        "colab": {
          "base_uri": "https://localhost:8080/"
        },
        "outputId": "8b8e9ded-6b55-468b-eba3-7c9f14dfbd2b"
      },
      "source": [
        "best_model = catboost.CatBoostClassifier(\n",
        "    cat_features=cat_cols,\n",
        "    logging_level=\"Silent\",\n",
        "    eval_metric=\"AUC:hints=skip_train~false\",\n",
        "    grow_policy=\"Lossguide\",\n",
        "    metric_period=1000,\n",
        "    random_seed=0,\n",
        ")\n",
        "\n",
        "PARAMS = {\n",
        "    \"n_estimators\": [350],\n",
        "    \"learning_rate\": [0.05],\n",
        "    \"max_depth\": [4],\n",
        "    \"l2_leaf_reg\": [10],\n",
        "    \"subsample\": [0.6],\n",
        "    \"random_strength\": [5],\n",
        "    \"min_data_in_leaf\": [100],\n",
        "}\n",
        "\n",
        "X_train_sC, X_test_sC, y_train_sC, y_test_sC = train_test_split(X_train_Cat, y_train,\n",
        "                                                       train_size=0.8,\n",
        "                                                       random_state=42)\n",
        "\n",
        "best_model.fit(X_train_Cat, y_train)"
      ],
      "execution_count": null,
      "outputs": [
        {
          "output_type": "execute_result",
          "data": {
            "text/plain": [
              "<catboost.core.CatBoostClassifier at 0x7fbb6d63f890>"
            ]
          },
          "metadata": {},
          "execution_count": 45
        }
      ]
    },
    {
      "cell_type": "code",
      "metadata": {
        "id": "FfSufx0CEEZZ"
      },
      "source": [
        "X_test = pd.read_csv('test.csv')"
      ],
      "execution_count": null,
      "outputs": []
    },
    {
      "cell_type": "code",
      "source": [
        "submission = pd.read_csv('submission.csv')"
      ],
      "metadata": {
        "id": "aZ-ekFOMXemU"
      },
      "execution_count": null,
      "outputs": []
    },
    {
      "cell_type": "code",
      "source": [
        "X_test.sort_values(\"TotalSpent\").head(3)"
      ],
      "metadata": {
        "colab": {
          "base_uri": "https://localhost:8080/",
          "height": 259
        },
        "id": "5_0_r9E7Fy23",
        "outputId": "d1c50790-f547-4aac-8f3e-e4fcdb5f2a82"
      },
      "execution_count": null,
      "outputs": [
        {
          "output_type": "execute_result",
          "data": {
            "text/plain": [
              "      ClientPeriod  MonthlySpending TotalSpent     Sex  IsSeniorCitizen  \\\n",
              "177              0            19.85               Male                0   \n",
              "767              0            20.25               Male                0   \n",
              "1504             1           100.80      100.8  Female                1   \n",
              "\n",
              "     HasPartner HasChild HasPhoneService HasMultiplePhoneNumbers  \\\n",
              "177         Yes      Yes             Yes                      No   \n",
              "767          No      Yes             Yes                      No   \n",
              "1504        Yes       No             Yes                     Yes   \n",
              "\n",
              "     HasInternetService HasOnlineSecurityService      HasOnlineBackup  \\\n",
              "177                  No      No internet service  No internet service   \n",
              "767                  No      No internet service  No internet service   \n",
              "1504        Fiber optic                       No                   No   \n",
              "\n",
              "      HasDeviceProtection HasTechSupportAccess          HasOnlineTV  \\\n",
              "177   No internet service  No internet service  No internet service   \n",
              "767   No internet service  No internet service  No internet service   \n",
              "1504                  Yes                   No                  Yes   \n",
              "\n",
              "     HasMovieSubscription HasContractPhone IsBillingPaperless  \\\n",
              "177   No internet service         Two year                 No   \n",
              "767   No internet service         Two year                 No   \n",
              "1504                  Yes   Month-to-month                Yes   \n",
              "\n",
              "         PaymentMethod  \n",
              "177       Mailed check  \n",
              "767       Mailed check  \n",
              "1504  Electronic check  "
            ],
            "text/html": [
              "\n",
              "  <div id=\"df-cf7f5676-b14f-4e70-b1ad-c3e9984ae03d\">\n",
              "    <div class=\"colab-df-container\">\n",
              "      <div>\n",
              "<style scoped>\n",
              "    .dataframe tbody tr th:only-of-type {\n",
              "        vertical-align: middle;\n",
              "    }\n",
              "\n",
              "    .dataframe tbody tr th {\n",
              "        vertical-align: top;\n",
              "    }\n",
              "\n",
              "    .dataframe thead th {\n",
              "        text-align: right;\n",
              "    }\n",
              "</style>\n",
              "<table border=\"1\" class=\"dataframe\">\n",
              "  <thead>\n",
              "    <tr style=\"text-align: right;\">\n",
              "      <th></th>\n",
              "      <th>ClientPeriod</th>\n",
              "      <th>MonthlySpending</th>\n",
              "      <th>TotalSpent</th>\n",
              "      <th>Sex</th>\n",
              "      <th>IsSeniorCitizen</th>\n",
              "      <th>HasPartner</th>\n",
              "      <th>HasChild</th>\n",
              "      <th>HasPhoneService</th>\n",
              "      <th>HasMultiplePhoneNumbers</th>\n",
              "      <th>HasInternetService</th>\n",
              "      <th>HasOnlineSecurityService</th>\n",
              "      <th>HasOnlineBackup</th>\n",
              "      <th>HasDeviceProtection</th>\n",
              "      <th>HasTechSupportAccess</th>\n",
              "      <th>HasOnlineTV</th>\n",
              "      <th>HasMovieSubscription</th>\n",
              "      <th>HasContractPhone</th>\n",
              "      <th>IsBillingPaperless</th>\n",
              "      <th>PaymentMethod</th>\n",
              "    </tr>\n",
              "  </thead>\n",
              "  <tbody>\n",
              "    <tr>\n",
              "      <th>177</th>\n",
              "      <td>0</td>\n",
              "      <td>19.85</td>\n",
              "      <td></td>\n",
              "      <td>Male</td>\n",
              "      <td>0</td>\n",
              "      <td>Yes</td>\n",
              "      <td>Yes</td>\n",
              "      <td>Yes</td>\n",
              "      <td>No</td>\n",
              "      <td>No</td>\n",
              "      <td>No internet service</td>\n",
              "      <td>No internet service</td>\n",
              "      <td>No internet service</td>\n",
              "      <td>No internet service</td>\n",
              "      <td>No internet service</td>\n",
              "      <td>No internet service</td>\n",
              "      <td>Two year</td>\n",
              "      <td>No</td>\n",
              "      <td>Mailed check</td>\n",
              "    </tr>\n",
              "    <tr>\n",
              "      <th>767</th>\n",
              "      <td>0</td>\n",
              "      <td>20.25</td>\n",
              "      <td></td>\n",
              "      <td>Male</td>\n",
              "      <td>0</td>\n",
              "      <td>No</td>\n",
              "      <td>Yes</td>\n",
              "      <td>Yes</td>\n",
              "      <td>No</td>\n",
              "      <td>No</td>\n",
              "      <td>No internet service</td>\n",
              "      <td>No internet service</td>\n",
              "      <td>No internet service</td>\n",
              "      <td>No internet service</td>\n",
              "      <td>No internet service</td>\n",
              "      <td>No internet service</td>\n",
              "      <td>Two year</td>\n",
              "      <td>No</td>\n",
              "      <td>Mailed check</td>\n",
              "    </tr>\n",
              "    <tr>\n",
              "      <th>1504</th>\n",
              "      <td>1</td>\n",
              "      <td>100.80</td>\n",
              "      <td>100.8</td>\n",
              "      <td>Female</td>\n",
              "      <td>1</td>\n",
              "      <td>Yes</td>\n",
              "      <td>No</td>\n",
              "      <td>Yes</td>\n",
              "      <td>Yes</td>\n",
              "      <td>Fiber optic</td>\n",
              "      <td>No</td>\n",
              "      <td>No</td>\n",
              "      <td>Yes</td>\n",
              "      <td>No</td>\n",
              "      <td>Yes</td>\n",
              "      <td>Yes</td>\n",
              "      <td>Month-to-month</td>\n",
              "      <td>Yes</td>\n",
              "      <td>Electronic check</td>\n",
              "    </tr>\n",
              "  </tbody>\n",
              "</table>\n",
              "</div>\n",
              "      <button class=\"colab-df-convert\" onclick=\"convertToInteractive('df-cf7f5676-b14f-4e70-b1ad-c3e9984ae03d')\"\n",
              "              title=\"Convert this dataframe to an interactive table.\"\n",
              "              style=\"display:none;\">\n",
              "        \n",
              "  <svg xmlns=\"http://www.w3.org/2000/svg\" height=\"24px\"viewBox=\"0 0 24 24\"\n",
              "       width=\"24px\">\n",
              "    <path d=\"M0 0h24v24H0V0z\" fill=\"none\"/>\n",
              "    <path d=\"M18.56 5.44l.94 2.06.94-2.06 2.06-.94-2.06-.94-.94-2.06-.94 2.06-2.06.94zm-11 1L8.5 8.5l.94-2.06 2.06-.94-2.06-.94L8.5 2.5l-.94 2.06-2.06.94zm10 10l.94 2.06.94-2.06 2.06-.94-2.06-.94-.94-2.06-.94 2.06-2.06.94z\"/><path d=\"M17.41 7.96l-1.37-1.37c-.4-.4-.92-.59-1.43-.59-.52 0-1.04.2-1.43.59L10.3 9.45l-7.72 7.72c-.78.78-.78 2.05 0 2.83L4 21.41c.39.39.9.59 1.41.59.51 0 1.02-.2 1.41-.59l7.78-7.78 2.81-2.81c.8-.78.8-2.07 0-2.86zM5.41 20L4 18.59l7.72-7.72 1.47 1.35L5.41 20z\"/>\n",
              "  </svg>\n",
              "      </button>\n",
              "      \n",
              "  <style>\n",
              "    .colab-df-container {\n",
              "      display:flex;\n",
              "      flex-wrap:wrap;\n",
              "      gap: 12px;\n",
              "    }\n",
              "\n",
              "    .colab-df-convert {\n",
              "      background-color: #E8F0FE;\n",
              "      border: none;\n",
              "      border-radius: 50%;\n",
              "      cursor: pointer;\n",
              "      display: none;\n",
              "      fill: #1967D2;\n",
              "      height: 32px;\n",
              "      padding: 0 0 0 0;\n",
              "      width: 32px;\n",
              "    }\n",
              "\n",
              "    .colab-df-convert:hover {\n",
              "      background-color: #E2EBFA;\n",
              "      box-shadow: 0px 1px 2px rgba(60, 64, 67, 0.3), 0px 1px 3px 1px rgba(60, 64, 67, 0.15);\n",
              "      fill: #174EA6;\n",
              "    }\n",
              "\n",
              "    [theme=dark] .colab-df-convert {\n",
              "      background-color: #3B4455;\n",
              "      fill: #D2E3FC;\n",
              "    }\n",
              "\n",
              "    [theme=dark] .colab-df-convert:hover {\n",
              "      background-color: #434B5C;\n",
              "      box-shadow: 0px 1px 3px 1px rgba(0, 0, 0, 0.15);\n",
              "      filter: drop-shadow(0px 1px 2px rgba(0, 0, 0, 0.3));\n",
              "      fill: #FFFFFF;\n",
              "    }\n",
              "  </style>\n",
              "\n",
              "      <script>\n",
              "        const buttonEl =\n",
              "          document.querySelector('#df-cf7f5676-b14f-4e70-b1ad-c3e9984ae03d button.colab-df-convert');\n",
              "        buttonEl.style.display =\n",
              "          google.colab.kernel.accessAllowed ? 'block' : 'none';\n",
              "\n",
              "        async function convertToInteractive(key) {\n",
              "          const element = document.querySelector('#df-cf7f5676-b14f-4e70-b1ad-c3e9984ae03d');\n",
              "          const dataTable =\n",
              "            await google.colab.kernel.invokeFunction('convertToInteractive',\n",
              "                                                     [key], {});\n",
              "          if (!dataTable) return;\n",
              "\n",
              "          const docLinkHtml = 'Like what you see? Visit the ' +\n",
              "            '<a target=\"_blank\" href=https://colab.research.google.com/notebooks/data_table.ipynb>data table notebook</a>'\n",
              "            + ' to learn more about interactive tables.';\n",
              "          element.innerHTML = '';\n",
              "          dataTable['output_type'] = 'display_data';\n",
              "          await google.colab.output.renderOutput(dataTable, element);\n",
              "          const docLink = document.createElement('div');\n",
              "          docLink.innerHTML = docLinkHtml;\n",
              "          element.appendChild(docLink);\n",
              "        }\n",
              "      </script>\n",
              "    </div>\n",
              "  </div>\n",
              "  "
            ]
          },
          "metadata": {},
          "execution_count": 48
        }
      ]
    },
    {
      "cell_type": "code",
      "source": [
        "X_test[\"TotalSpent\"].replace(to_replace=\" \", value='0', inplace= True)\n",
        "X_test[\"TotalSpent\"] = test.TotalSpent.astype(float)\n",
        "X_test.sort_values(\"TotalSpent\").head(3)"
      ],
      "metadata": {
        "colab": {
          "base_uri": "https://localhost:8080/",
          "height": 259
        },
        "id": "jJ2a-KoxFj5R",
        "outputId": "44e8e3a5-87a3-4c03-f6da-479a3afb66d0"
      },
      "execution_count": null,
      "outputs": [
        {
          "output_type": "execute_result",
          "data": {
            "text/plain": [
              "      ClientPeriod  MonthlySpending  TotalSpent     Sex  IsSeniorCitizen  \\\n",
              "177              0            19.85        0.00    Male                0   \n",
              "767              0            20.25        0.00    Male                0   \n",
              "1366             1            18.85       18.85  Female                0   \n",
              "\n",
              "     HasPartner HasChild HasPhoneService HasMultiplePhoneNumbers  \\\n",
              "177         Yes      Yes             Yes                      No   \n",
              "767          No      Yes             Yes                      No   \n",
              "1366         No       No             Yes                      No   \n",
              "\n",
              "     HasInternetService HasOnlineSecurityService      HasOnlineBackup  \\\n",
              "177                  No      No internet service  No internet service   \n",
              "767                  No      No internet service  No internet service   \n",
              "1366                 No      No internet service  No internet service   \n",
              "\n",
              "      HasDeviceProtection HasTechSupportAccess          HasOnlineTV  \\\n",
              "177   No internet service  No internet service  No internet service   \n",
              "767   No internet service  No internet service  No internet service   \n",
              "1366  No internet service  No internet service  No internet service   \n",
              "\n",
              "     HasMovieSubscription HasContractPhone IsBillingPaperless  \\\n",
              "177   No internet service         Two year                 No   \n",
              "767   No internet service         Two year                 No   \n",
              "1366  No internet service   Month-to-month                 No   \n",
              "\n",
              "         PaymentMethod  \n",
              "177       Mailed check  \n",
              "767       Mailed check  \n",
              "1366  Electronic check  "
            ],
            "text/html": [
              "\n",
              "  <div id=\"df-b96f1159-ad33-41f9-a3a4-f2e1fde87b73\">\n",
              "    <div class=\"colab-df-container\">\n",
              "      <div>\n",
              "<style scoped>\n",
              "    .dataframe tbody tr th:only-of-type {\n",
              "        vertical-align: middle;\n",
              "    }\n",
              "\n",
              "    .dataframe tbody tr th {\n",
              "        vertical-align: top;\n",
              "    }\n",
              "\n",
              "    .dataframe thead th {\n",
              "        text-align: right;\n",
              "    }\n",
              "</style>\n",
              "<table border=\"1\" class=\"dataframe\">\n",
              "  <thead>\n",
              "    <tr style=\"text-align: right;\">\n",
              "      <th></th>\n",
              "      <th>ClientPeriod</th>\n",
              "      <th>MonthlySpending</th>\n",
              "      <th>TotalSpent</th>\n",
              "      <th>Sex</th>\n",
              "      <th>IsSeniorCitizen</th>\n",
              "      <th>HasPartner</th>\n",
              "      <th>HasChild</th>\n",
              "      <th>HasPhoneService</th>\n",
              "      <th>HasMultiplePhoneNumbers</th>\n",
              "      <th>HasInternetService</th>\n",
              "      <th>HasOnlineSecurityService</th>\n",
              "      <th>HasOnlineBackup</th>\n",
              "      <th>HasDeviceProtection</th>\n",
              "      <th>HasTechSupportAccess</th>\n",
              "      <th>HasOnlineTV</th>\n",
              "      <th>HasMovieSubscription</th>\n",
              "      <th>HasContractPhone</th>\n",
              "      <th>IsBillingPaperless</th>\n",
              "      <th>PaymentMethod</th>\n",
              "    </tr>\n",
              "  </thead>\n",
              "  <tbody>\n",
              "    <tr>\n",
              "      <th>177</th>\n",
              "      <td>0</td>\n",
              "      <td>19.85</td>\n",
              "      <td>0.00</td>\n",
              "      <td>Male</td>\n",
              "      <td>0</td>\n",
              "      <td>Yes</td>\n",
              "      <td>Yes</td>\n",
              "      <td>Yes</td>\n",
              "      <td>No</td>\n",
              "      <td>No</td>\n",
              "      <td>No internet service</td>\n",
              "      <td>No internet service</td>\n",
              "      <td>No internet service</td>\n",
              "      <td>No internet service</td>\n",
              "      <td>No internet service</td>\n",
              "      <td>No internet service</td>\n",
              "      <td>Two year</td>\n",
              "      <td>No</td>\n",
              "      <td>Mailed check</td>\n",
              "    </tr>\n",
              "    <tr>\n",
              "      <th>767</th>\n",
              "      <td>0</td>\n",
              "      <td>20.25</td>\n",
              "      <td>0.00</td>\n",
              "      <td>Male</td>\n",
              "      <td>0</td>\n",
              "      <td>No</td>\n",
              "      <td>Yes</td>\n",
              "      <td>Yes</td>\n",
              "      <td>No</td>\n",
              "      <td>No</td>\n",
              "      <td>No internet service</td>\n",
              "      <td>No internet service</td>\n",
              "      <td>No internet service</td>\n",
              "      <td>No internet service</td>\n",
              "      <td>No internet service</td>\n",
              "      <td>No internet service</td>\n",
              "      <td>Two year</td>\n",
              "      <td>No</td>\n",
              "      <td>Mailed check</td>\n",
              "    </tr>\n",
              "    <tr>\n",
              "      <th>1366</th>\n",
              "      <td>1</td>\n",
              "      <td>18.85</td>\n",
              "      <td>18.85</td>\n",
              "      <td>Female</td>\n",
              "      <td>0</td>\n",
              "      <td>No</td>\n",
              "      <td>No</td>\n",
              "      <td>Yes</td>\n",
              "      <td>No</td>\n",
              "      <td>No</td>\n",
              "      <td>No internet service</td>\n",
              "      <td>No internet service</td>\n",
              "      <td>No internet service</td>\n",
              "      <td>No internet service</td>\n",
              "      <td>No internet service</td>\n",
              "      <td>No internet service</td>\n",
              "      <td>Month-to-month</td>\n",
              "      <td>No</td>\n",
              "      <td>Electronic check</td>\n",
              "    </tr>\n",
              "  </tbody>\n",
              "</table>\n",
              "</div>\n",
              "      <button class=\"colab-df-convert\" onclick=\"convertToInteractive('df-b96f1159-ad33-41f9-a3a4-f2e1fde87b73')\"\n",
              "              title=\"Convert this dataframe to an interactive table.\"\n",
              "              style=\"display:none;\">\n",
              "        \n",
              "  <svg xmlns=\"http://www.w3.org/2000/svg\" height=\"24px\"viewBox=\"0 0 24 24\"\n",
              "       width=\"24px\">\n",
              "    <path d=\"M0 0h24v24H0V0z\" fill=\"none\"/>\n",
              "    <path d=\"M18.56 5.44l.94 2.06.94-2.06 2.06-.94-2.06-.94-.94-2.06-.94 2.06-2.06.94zm-11 1L8.5 8.5l.94-2.06 2.06-.94-2.06-.94L8.5 2.5l-.94 2.06-2.06.94zm10 10l.94 2.06.94-2.06 2.06-.94-2.06-.94-.94-2.06-.94 2.06-2.06.94z\"/><path d=\"M17.41 7.96l-1.37-1.37c-.4-.4-.92-.59-1.43-.59-.52 0-1.04.2-1.43.59L10.3 9.45l-7.72 7.72c-.78.78-.78 2.05 0 2.83L4 21.41c.39.39.9.59 1.41.59.51 0 1.02-.2 1.41-.59l7.78-7.78 2.81-2.81c.8-.78.8-2.07 0-2.86zM5.41 20L4 18.59l7.72-7.72 1.47 1.35L5.41 20z\"/>\n",
              "  </svg>\n",
              "      </button>\n",
              "      \n",
              "  <style>\n",
              "    .colab-df-container {\n",
              "      display:flex;\n",
              "      flex-wrap:wrap;\n",
              "      gap: 12px;\n",
              "    }\n",
              "\n",
              "    .colab-df-convert {\n",
              "      background-color: #E8F0FE;\n",
              "      border: none;\n",
              "      border-radius: 50%;\n",
              "      cursor: pointer;\n",
              "      display: none;\n",
              "      fill: #1967D2;\n",
              "      height: 32px;\n",
              "      padding: 0 0 0 0;\n",
              "      width: 32px;\n",
              "    }\n",
              "\n",
              "    .colab-df-convert:hover {\n",
              "      background-color: #E2EBFA;\n",
              "      box-shadow: 0px 1px 2px rgba(60, 64, 67, 0.3), 0px 1px 3px 1px rgba(60, 64, 67, 0.15);\n",
              "      fill: #174EA6;\n",
              "    }\n",
              "\n",
              "    [theme=dark] .colab-df-convert {\n",
              "      background-color: #3B4455;\n",
              "      fill: #D2E3FC;\n",
              "    }\n",
              "\n",
              "    [theme=dark] .colab-df-convert:hover {\n",
              "      background-color: #434B5C;\n",
              "      box-shadow: 0px 1px 3px 1px rgba(0, 0, 0, 0.15);\n",
              "      filter: drop-shadow(0px 1px 2px rgba(0, 0, 0, 0.3));\n",
              "      fill: #FFFFFF;\n",
              "    }\n",
              "  </style>\n",
              "\n",
              "      <script>\n",
              "        const buttonEl =\n",
              "          document.querySelector('#df-b96f1159-ad33-41f9-a3a4-f2e1fde87b73 button.colab-df-convert');\n",
              "        buttonEl.style.display =\n",
              "          google.colab.kernel.accessAllowed ? 'block' : 'none';\n",
              "\n",
              "        async function convertToInteractive(key) {\n",
              "          const element = document.querySelector('#df-b96f1159-ad33-41f9-a3a4-f2e1fde87b73');\n",
              "          const dataTable =\n",
              "            await google.colab.kernel.invokeFunction('convertToInteractive',\n",
              "                                                     [key], {});\n",
              "          if (!dataTable) return;\n",
              "\n",
              "          const docLinkHtml = 'Like what you see? Visit the ' +\n",
              "            '<a target=\"_blank\" href=https://colab.research.google.com/notebooks/data_table.ipynb>data table notebook</a>'\n",
              "            + ' to learn more about interactive tables.';\n",
              "          element.innerHTML = '';\n",
              "          dataTable['output_type'] = 'display_data';\n",
              "          await google.colab.output.renderOutput(dataTable, element);\n",
              "          const docLink = document.createElement('div');\n",
              "          docLink.innerHTML = docLinkHtml;\n",
              "          element.appendChild(docLink);\n",
              "        }\n",
              "      </script>\n",
              "    </div>\n",
              "  </div>\n",
              "  "
            ]
          },
          "metadata": {},
          "execution_count": 49
        }
      ]
    },
    {
      "cell_type": "code",
      "source": [
        "submission['Churn'] = best_model.predict_proba(X_test)[:, 1]\n",
        "submission['Churn'].head()"
      ],
      "metadata": {
        "colab": {
          "base_uri": "https://localhost:8080/"
        },
        "id": "DNxj30rjFijb",
        "outputId": "cbac05d6-e902-4e3a-e1d8-62303316238f"
      },
      "execution_count": null,
      "outputs": [
        {
          "output_type": "execute_result",
          "data": {
            "text/plain": [
              "0    0.049384\n",
              "1    0.631179\n",
              "2    0.553485\n",
              "3    0.023643\n",
              "4    0.002920\n",
              "Name: Churn, dtype: float64"
            ]
          },
          "metadata": {},
          "execution_count": 54
        }
      ]
    },
    {
      "cell_type": "code",
      "source": [
        "submission.to_csv('my_submission.csv', index=False)"
      ],
      "metadata": {
        "id": "OJHg9jbHbejk"
      },
      "execution_count": null,
      "outputs": []
    }
  ]
}